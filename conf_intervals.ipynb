{
 "cells": [
  {
   "cell_type": "code",
   "execution_count": 72,
   "metadata": {},
   "outputs": [],
   "source": [
    "import pandas as pd\n",
    "import numpy as np\n",
    "import seaborn as sns\n",
    "import matplotlib.pyplot as plt\n",
    "import config \n",
    "from scipy.stats import norm"
   ]
  },
  {
   "cell_type": "code",
   "execution_count": 73,
   "metadata": {},
   "outputs": [],
   "source": [
    "# get module variables\n",
    "ROOT_DIR = config.ROOT_DIR\n",
    "sns.set_style('whitegrid')"
   ]
  },
  {
   "cell_type": "code",
   "execution_count": 74,
   "metadata": {},
   "outputs": [],
   "source": [
    "student_grades = pd.read_csv(rf\"{ROOT_DIR}\\data\\student_grades.csv\")"
   ]
  },
  {
   "cell_type": "code",
   "execution_count": 75,
   "metadata": {},
   "outputs": [
    {
     "data": {
      "text/html": [
       "<div>\n",
       "<style scoped>\n",
       "    .dataframe tbody tr th:only-of-type {\n",
       "        vertical-align: middle;\n",
       "    }\n",
       "\n",
       "    .dataframe tbody tr th {\n",
       "        vertical-align: top;\n",
       "    }\n",
       "\n",
       "    .dataframe thead th {\n",
       "        text-align: right;\n",
       "    }\n",
       "</style>\n",
       "<table border=\"1\" class=\"dataframe\">\n",
       "  <thead>\n",
       "    <tr style=\"text-align: right;\">\n",
       "      <th></th>\n",
       "      <th>Student ID</th>\n",
       "      <th>Undergrad Degree</th>\n",
       "      <th>Undergrad Grade</th>\n",
       "      <th>MBA Grade</th>\n",
       "      <th>Work Experience</th>\n",
       "      <th>Employability (Before)</th>\n",
       "      <th>Employability (After)</th>\n",
       "      <th>Status</th>\n",
       "      <th>Annual Salary</th>\n",
       "    </tr>\n",
       "  </thead>\n",
       "  <tbody>\n",
       "    <tr>\n",
       "      <th>0</th>\n",
       "      <td>1</td>\n",
       "      <td>Business</td>\n",
       "      <td>68.4</td>\n",
       "      <td>90.2</td>\n",
       "      <td>No</td>\n",
       "      <td>252</td>\n",
       "      <td>276</td>\n",
       "      <td>Placed</td>\n",
       "      <td>111000.0</td>\n",
       "    </tr>\n",
       "    <tr>\n",
       "      <th>1</th>\n",
       "      <td>2</td>\n",
       "      <td>Business</td>\n",
       "      <td>62.1</td>\n",
       "      <td>92.8</td>\n",
       "      <td>No</td>\n",
       "      <td>423</td>\n",
       "      <td>410</td>\n",
       "      <td>Not Placed</td>\n",
       "      <td>NaN</td>\n",
       "    </tr>\n",
       "    <tr>\n",
       "      <th>2</th>\n",
       "      <td>3</td>\n",
       "      <td>Computer Science</td>\n",
       "      <td>70.2</td>\n",
       "      <td>68.7</td>\n",
       "      <td>Yes</td>\n",
       "      <td>101</td>\n",
       "      <td>119</td>\n",
       "      <td>Placed</td>\n",
       "      <td>107000.0</td>\n",
       "    </tr>\n",
       "    <tr>\n",
       "      <th>3</th>\n",
       "      <td>4</td>\n",
       "      <td>Engineering</td>\n",
       "      <td>75.1</td>\n",
       "      <td>80.7</td>\n",
       "      <td>No</td>\n",
       "      <td>288</td>\n",
       "      <td>334</td>\n",
       "      <td>Not Placed</td>\n",
       "      <td>NaN</td>\n",
       "    </tr>\n",
       "    <tr>\n",
       "      <th>4</th>\n",
       "      <td>5</td>\n",
       "      <td>Finance</td>\n",
       "      <td>60.9</td>\n",
       "      <td>74.9</td>\n",
       "      <td>No</td>\n",
       "      <td>248</td>\n",
       "      <td>252</td>\n",
       "      <td>Not Placed</td>\n",
       "      <td>NaN</td>\n",
       "    </tr>\n",
       "    <tr>\n",
       "      <th>...</th>\n",
       "      <td>...</td>\n",
       "      <td>...</td>\n",
       "      <td>...</td>\n",
       "      <td>...</td>\n",
       "      <td>...</td>\n",
       "      <td>...</td>\n",
       "      <td>...</td>\n",
       "      <td>...</td>\n",
       "      <td>...</td>\n",
       "    </tr>\n",
       "    <tr>\n",
       "      <th>90</th>\n",
       "      <td>91</td>\n",
       "      <td>Business</td>\n",
       "      <td>76.0</td>\n",
       "      <td>77.9</td>\n",
       "      <td>No</td>\n",
       "      <td>326</td>\n",
       "      <td>369</td>\n",
       "      <td>Placed</td>\n",
       "      <td>99500.0</td>\n",
       "    </tr>\n",
       "    <tr>\n",
       "      <th>91</th>\n",
       "      <td>92</td>\n",
       "      <td>Computer Science</td>\n",
       "      <td>67.7</td>\n",
       "      <td>86.1</td>\n",
       "      <td>No</td>\n",
       "      <td>421</td>\n",
       "      <td>457</td>\n",
       "      <td>Placed</td>\n",
       "      <td>107000.0</td>\n",
       "    </tr>\n",
       "    <tr>\n",
       "      <th>92</th>\n",
       "      <td>93</td>\n",
       "      <td>Engineering</td>\n",
       "      <td>75.3</td>\n",
       "      <td>89.9</td>\n",
       "      <td>No</td>\n",
       "      <td>368</td>\n",
       "      <td>421</td>\n",
       "      <td>Not Placed</td>\n",
       "      <td>NaN</td>\n",
       "    </tr>\n",
       "    <tr>\n",
       "      <th>93</th>\n",
       "      <td>94</td>\n",
       "      <td>Engineering</td>\n",
       "      <td>68.1</td>\n",
       "      <td>83.1</td>\n",
       "      <td>No</td>\n",
       "      <td>279</td>\n",
       "      <td>282</td>\n",
       "      <td>Placed</td>\n",
       "      <td>84000.0</td>\n",
       "    </tr>\n",
       "    <tr>\n",
       "      <th>94</th>\n",
       "      <td>95</td>\n",
       "      <td>Finance</td>\n",
       "      <td>63.3</td>\n",
       "      <td>82.6</td>\n",
       "      <td>No</td>\n",
       "      <td>268</td>\n",
       "      <td>256</td>\n",
       "      <td>Not Placed</td>\n",
       "      <td>NaN</td>\n",
       "    </tr>\n",
       "  </tbody>\n",
       "</table>\n",
       "<p>95 rows × 9 columns</p>\n",
       "</div>"
      ],
      "text/plain": [
       "    Student ID  Undergrad Degree  Undergrad Grade  MBA Grade Work Experience  \\\n",
       "0            1          Business             68.4       90.2              No   \n",
       "1            2          Business             62.1       92.8              No   \n",
       "2            3  Computer Science             70.2       68.7             Yes   \n",
       "3            4       Engineering             75.1       80.7              No   \n",
       "4            5           Finance             60.9       74.9              No   \n",
       "..         ...               ...              ...        ...             ...   \n",
       "90          91          Business             76.0       77.9              No   \n",
       "91          92  Computer Science             67.7       86.1              No   \n",
       "92          93       Engineering             75.3       89.9              No   \n",
       "93          94       Engineering             68.1       83.1              No   \n",
       "94          95           Finance             63.3       82.6              No   \n",
       "\n",
       "    Employability (Before)  Employability (After)      Status  Annual Salary  \n",
       "0                      252                    276      Placed       111000.0  \n",
       "1                      423                    410  Not Placed            NaN  \n",
       "2                      101                    119      Placed       107000.0  \n",
       "3                      288                    334  Not Placed            NaN  \n",
       "4                      248                    252  Not Placed            NaN  \n",
       "..                     ...                    ...         ...            ...  \n",
       "90                     326                    369      Placed        99500.0  \n",
       "91                     421                    457      Placed       107000.0  \n",
       "92                     368                    421  Not Placed            NaN  \n",
       "93                     279                    282      Placed        84000.0  \n",
       "94                     268                    256  Not Placed            NaN  \n",
       "\n",
       "[95 rows x 9 columns]"
      ]
     },
     "execution_count": 75,
     "metadata": {},
     "output_type": "execute_result"
    }
   ],
   "source": [
    "student_grades"
   ]
  },
  {
   "attachments": {},
   "cell_type": "markdown",
   "metadata": {},
   "source": [
    "#### What mean employability score can we expect from future graduates, with 90 % confidence? (Standard deviation of poplation is 90)"
   ]
  },
  {
   "cell_type": "code",
   "execution_count": 76,
   "metadata": {},
   "outputs": [
    {
     "data": {
      "text/html": [
       "<div>\n",
       "<style scoped>\n",
       "    .dataframe tbody tr th:only-of-type {\n",
       "        vertical-align: middle;\n",
       "    }\n",
       "\n",
       "    .dataframe tbody tr th {\n",
       "        vertical-align: top;\n",
       "    }\n",
       "\n",
       "    .dataframe thead th {\n",
       "        text-align: right;\n",
       "    }\n",
       "</style>\n",
       "<table border=\"1\" class=\"dataframe\">\n",
       "  <thead>\n",
       "    <tr style=\"text-align: right;\">\n",
       "      <th></th>\n",
       "      <th>Student ID</th>\n",
       "      <th>Employability (After)</th>\n",
       "    </tr>\n",
       "  </thead>\n",
       "  <tbody>\n",
       "    <tr>\n",
       "      <th>0</th>\n",
       "      <td>1</td>\n",
       "      <td>276</td>\n",
       "    </tr>\n",
       "    <tr>\n",
       "      <th>1</th>\n",
       "      <td>2</td>\n",
       "      <td>410</td>\n",
       "    </tr>\n",
       "    <tr>\n",
       "      <th>2</th>\n",
       "      <td>3</td>\n",
       "      <td>119</td>\n",
       "    </tr>\n",
       "    <tr>\n",
       "      <th>3</th>\n",
       "      <td>4</td>\n",
       "      <td>334</td>\n",
       "    </tr>\n",
       "    <tr>\n",
       "      <th>4</th>\n",
       "      <td>5</td>\n",
       "      <td>252</td>\n",
       "    </tr>\n",
       "  </tbody>\n",
       "</table>\n",
       "</div>"
      ],
      "text/plain": [
       "   Student ID  Employability (After)\n",
       "0           1                    276\n",
       "1           2                    410\n",
       "2           3                    119\n",
       "3           4                    334\n",
       "4           5                    252"
      ]
     },
     "execution_count": 76,
     "metadata": {},
     "output_type": "execute_result"
    }
   ],
   "source": [
    "employability = student_grades.loc[:, [\"Student ID\", \"Employability (After)\"]]\n",
    "employability.head()"
   ]
  },
  {
   "cell_type": "code",
   "execution_count": 77,
   "metadata": {},
   "outputs": [
    {
     "name": "stdout",
     "output_type": "stream",
     "text": [
      "Sample size: 95\n",
      "Sample mean: 289.34736842105264\n"
     ]
    }
   ],
   "source": [
    "# get size and mean of sample\n",
    "sample_size = employability.shape[0]\n",
    "sample_mean = employability[\"Employability (After)\"].mean()\n",
    "print(f\"Sample size: {sample_size}\")\n",
    "print(f\"Sample mean: {sample_mean}\") # point estimate"
   ]
  },
  {
   "cell_type": "code",
   "execution_count": 78,
   "metadata": {},
   "outputs": [
    {
     "data": {
      "text/plain": [
       "15.188257922408644"
      ]
     },
     "execution_count": 78,
     "metadata": {},
     "output_type": "execute_result"
    }
   ],
   "source": [
    "# find margin of error for 90 percent confidence interval\n",
    "z_score = norm.ppf(0.95)\n",
    "std_error = 90 / np.sqrt(sample_size)\n",
    "margin_of_error = z_score * std_error\n",
    "margin_of_error"
   ]
  },
  {
   "cell_type": "code",
   "execution_count": 79,
   "metadata": {},
   "outputs": [
    {
     "name": "stdout",
     "output_type": "stream",
     "text": [
      "Lower bound: 274.159110498644\n",
      "Upper bound: 304.5356263434613\n"
     ]
    }
   ],
   "source": [
    "print(f\"Lower bound: {sample_mean - margin_of_error}\")\n",
    "print(f\"Upper bound: {sample_mean + margin_of_error}\")"
   ]
  },
  {
   "cell_type": "code",
   "execution_count": 80,
   "metadata": {},
   "outputs": [
    {
     "data": {
      "text/plain": [
       "(274.159110498644, 304.5356263434613)"
      ]
     },
     "execution_count": 80,
     "metadata": {},
     "output_type": "execute_result"
    }
   ],
   "source": [
    "# inbuilt function in scipy stats to compute confidence interval\n",
    "norm.interval(confidence=0.9, loc=sample_mean, scale=std_error)"
   ]
  },
  {
   "attachments": {},
   "cell_type": "markdown",
   "metadata": {},
   "source": [
    "#### Find expected annual salary for graduates with alpha 0.05 given average salary for recent MBA graduates in US is 101k USD and standard deviation is 76k USD"
   ]
  },
  {
   "cell_type": "code",
   "execution_count": 81,
   "metadata": {},
   "outputs": [
    {
     "data": {
      "text/html": [
       "<div>\n",
       "<style scoped>\n",
       "    .dataframe tbody tr th:only-of-type {\n",
       "        vertical-align: middle;\n",
       "    }\n",
       "\n",
       "    .dataframe tbody tr th {\n",
       "        vertical-align: top;\n",
       "    }\n",
       "\n",
       "    .dataframe thead th {\n",
       "        text-align: right;\n",
       "    }\n",
       "</style>\n",
       "<table border=\"1\" class=\"dataframe\">\n",
       "  <thead>\n",
       "    <tr style=\"text-align: right;\">\n",
       "      <th></th>\n",
       "      <th>Student ID</th>\n",
       "      <th>Annual Salary</th>\n",
       "    </tr>\n",
       "  </thead>\n",
       "  <tbody>\n",
       "    <tr>\n",
       "      <th>0</th>\n",
       "      <td>1</td>\n",
       "      <td>111000.0</td>\n",
       "    </tr>\n",
       "    <tr>\n",
       "      <th>1</th>\n",
       "      <td>2</td>\n",
       "      <td>NaN</td>\n",
       "    </tr>\n",
       "    <tr>\n",
       "      <th>2</th>\n",
       "      <td>3</td>\n",
       "      <td>107000.0</td>\n",
       "    </tr>\n",
       "    <tr>\n",
       "      <th>3</th>\n",
       "      <td>4</td>\n",
       "      <td>NaN</td>\n",
       "    </tr>\n",
       "    <tr>\n",
       "      <th>4</th>\n",
       "      <td>5</td>\n",
       "      <td>NaN</td>\n",
       "    </tr>\n",
       "  </tbody>\n",
       "</table>\n",
       "</div>"
      ],
      "text/plain": [
       "   Student ID  Annual Salary\n",
       "0           1       111000.0\n",
       "1           2            NaN\n",
       "2           3       107000.0\n",
       "3           4            NaN\n",
       "4           5            NaN"
      ]
     },
     "execution_count": 81,
     "metadata": {},
     "output_type": "execute_result"
    }
   ],
   "source": [
    "salary = student_grades.loc[:, [\"Student ID\", \"Annual Salary\"]]\n",
    "salary.head()"
   ]
  },
  {
   "cell_type": "code",
   "execution_count": 82,
   "metadata": {},
   "outputs": [
    {
     "name": "stdout",
     "output_type": "stream",
     "text": [
      "Sample size: 53\n",
      "Sample mean: 119386.7924528302\n",
      "Standard error: 10439.402860100367\n"
     ]
    }
   ],
   "source": [
    "# get size and mean of sample\n",
    "sample_size = salary[\"Annual Salary\"].count()\n",
    "sample_mean = salary[\"Annual Salary\"].mean()\n",
    "std_error = 76000 / np.sqrt(sample_size)\n",
    "print(f\"Sample size: {sample_size}\")\n",
    "print(f\"Sample mean: {sample_mean}\") # point estimate\n",
    "print(f\"Standard error: {std_error}\")"
   ]
  },
  {
   "cell_type": "code",
   "execution_count": 83,
   "metadata": {},
   "outputs": [
    {
     "data": {
      "text/plain": [
       "(98925.93882692905, 139847.64607873134)"
      ]
     },
     "execution_count": 83,
     "metadata": {},
     "output_type": "execute_result"
    }
   ],
   "source": [
    "norm.interval(confidence=0.95, loc=sample_mean, scale=std_error)"
   ]
  },
  {
   "cell_type": "code",
   "execution_count": null,
   "metadata": {},
   "outputs": [],
   "source": []
  }
 ],
 "metadata": {
  "kernelspec": {
   "display_name": "Python 3",
   "language": "python",
   "name": "python3"
  },
  "language_info": {
   "codemirror_mode": {
    "name": "ipython",
    "version": 3
   },
   "file_extension": ".py",
   "mimetype": "text/x-python",
   "name": "python",
   "nbconvert_exporter": "python",
   "pygments_lexer": "ipython3",
   "version": "3.10.9"
  },
  "orig_nbformat": 4
 },
 "nbformat": 4,
 "nbformat_minor": 2
}
