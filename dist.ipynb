{
 "cells": [
  {
   "cell_type": "code",
   "execution_count": 225,
   "metadata": {},
   "outputs": [],
   "source": [
    "import pandas as pd\n",
    "import numpy as np\n",
    "import datetime \n",
    "import seaborn as sns\n",
    "import matplotlib.pyplot as plt\n",
    "import config \n",
    "from scipy.stats import norm"
   ]
  },
  {
   "cell_type": "code",
   "execution_count": 226,
   "metadata": {},
   "outputs": [],
   "source": [
    "# get module variables\n",
    "ROOT_DIR = config.ROOT_DIR\n",
    "sns.set_style('whitegrid')"
   ]
  },
  {
   "cell_type": "code",
   "execution_count": 227,
   "metadata": {},
   "outputs": [],
   "source": [
    "student_grades = pd.read_csv(rf\"{ROOT_DIR}\\data\\student_grades.csv\")"
   ]
  },
  {
   "cell_type": "code",
   "execution_count": 228,
   "metadata": {},
   "outputs": [
    {
     "data": {
      "text/html": [
       "<div>\n",
       "<style scoped>\n",
       "    .dataframe tbody tr th:only-of-type {\n",
       "        vertical-align: middle;\n",
       "    }\n",
       "\n",
       "    .dataframe tbody tr th {\n",
       "        vertical-align: top;\n",
       "    }\n",
       "\n",
       "    .dataframe thead th {\n",
       "        text-align: right;\n",
       "    }\n",
       "</style>\n",
       "<table border=\"1\" class=\"dataframe\">\n",
       "  <thead>\n",
       "    <tr style=\"text-align: right;\">\n",
       "      <th></th>\n",
       "      <th>Student ID</th>\n",
       "      <th>Undergrad Degree</th>\n",
       "      <th>Undergrad Grade</th>\n",
       "      <th>MBA Grade</th>\n",
       "      <th>Work Experience</th>\n",
       "      <th>Employability (Before)</th>\n",
       "      <th>Employability (After)</th>\n",
       "      <th>Status</th>\n",
       "      <th>Annual Salary</th>\n",
       "    </tr>\n",
       "  </thead>\n",
       "  <tbody>\n",
       "    <tr>\n",
       "      <th>0</th>\n",
       "      <td>1</td>\n",
       "      <td>Business</td>\n",
       "      <td>68.4</td>\n",
       "      <td>90.2</td>\n",
       "      <td>No</td>\n",
       "      <td>252</td>\n",
       "      <td>276</td>\n",
       "      <td>Placed</td>\n",
       "      <td>111000.0</td>\n",
       "    </tr>\n",
       "    <tr>\n",
       "      <th>1</th>\n",
       "      <td>2</td>\n",
       "      <td>Business</td>\n",
       "      <td>62.1</td>\n",
       "      <td>92.8</td>\n",
       "      <td>No</td>\n",
       "      <td>423</td>\n",
       "      <td>410</td>\n",
       "      <td>Not Placed</td>\n",
       "      <td>NaN</td>\n",
       "    </tr>\n",
       "    <tr>\n",
       "      <th>2</th>\n",
       "      <td>3</td>\n",
       "      <td>Computer Science</td>\n",
       "      <td>70.2</td>\n",
       "      <td>68.7</td>\n",
       "      <td>Yes</td>\n",
       "      <td>101</td>\n",
       "      <td>119</td>\n",
       "      <td>Placed</td>\n",
       "      <td>107000.0</td>\n",
       "    </tr>\n",
       "    <tr>\n",
       "      <th>3</th>\n",
       "      <td>4</td>\n",
       "      <td>Engineering</td>\n",
       "      <td>75.1</td>\n",
       "      <td>80.7</td>\n",
       "      <td>No</td>\n",
       "      <td>288</td>\n",
       "      <td>334</td>\n",
       "      <td>Not Placed</td>\n",
       "      <td>NaN</td>\n",
       "    </tr>\n",
       "    <tr>\n",
       "      <th>4</th>\n",
       "      <td>5</td>\n",
       "      <td>Finance</td>\n",
       "      <td>60.9</td>\n",
       "      <td>74.9</td>\n",
       "      <td>No</td>\n",
       "      <td>248</td>\n",
       "      <td>252</td>\n",
       "      <td>Not Placed</td>\n",
       "      <td>NaN</td>\n",
       "    </tr>\n",
       "  </tbody>\n",
       "</table>\n",
       "</div>"
      ],
      "text/plain": [
       "   Student ID  Undergrad Degree  Undergrad Grade  MBA Grade Work Experience  \\\n",
       "0           1          Business             68.4       90.2              No   \n",
       "1           2          Business             62.1       92.8              No   \n",
       "2           3  Computer Science             70.2       68.7             Yes   \n",
       "3           4       Engineering             75.1       80.7              No   \n",
       "4           5           Finance             60.9       74.9              No   \n",
       "\n",
       "   Employability (Before)  Employability (After)      Status  Annual Salary  \n",
       "0                     252                    276      Placed       111000.0  \n",
       "1                     423                    410  Not Placed            NaN  \n",
       "2                     101                    119      Placed       107000.0  \n",
       "3                     288                    334  Not Placed            NaN  \n",
       "4                     248                    252  Not Placed            NaN  "
      ]
     },
     "execution_count": 228,
     "metadata": {},
     "output_type": "execute_result"
    }
   ],
   "source": [
    "student_grades.head()"
   ]
  },
  {
   "cell_type": "code",
   "execution_count": 229,
   "metadata": {},
   "outputs": [
    {
     "data": {
      "text/plain": [
       "<AxesSubplot: title={'center': 'MBA Grade Distribution'}, ylabel='Frequency'>"
      ]
     },
     "execution_count": 229,
     "metadata": {},
     "output_type": "execute_result"
    },
    {
     "data": {
      "image/png": "[encoded data removed]",
      "text/plain": [
       "<Figure size 640x480 with 1 Axes>"
      ]
     },
     "metadata": {},
     "output_type": "display_data"
    }
   ],
   "source": [
    "student_grades[\"MBA Grade\"].plot(kind=\"hist\", bins=10, title=\"MBA Grade Distribution\")"
   ]
  },
  {
   "cell_type": "code",
   "execution_count": 230,
   "metadata": {},
   "outputs": [
    {
     "data": {
      "text/plain": [
       "<AxesSubplot: title={'center': 'MBA Grade Distribution'}, ylabel='Frequency'>"
      ]
     },
     "execution_count": 230,
     "metadata": {},
     "output_type": "execute_result"
    },
    {
     "data": {
      "image/png": "[encoded data removed]",
      "text/plain": [
       "<Figure size 640x480 with 1 Axes>"
      ]
     },
     "metadata": {},
     "output_type": "display_data"
    }
   ],
   "source": [
    "student_grades[\"MBA Grade\"].plot(kind=\"hist\", bins=10, title=\"MBA Grade Distribution\", density=True)"
   ]
  },
  {
   "cell_type": "code",
   "execution_count": 231,
   "metadata": {},
   "outputs": [
    {
     "name": "stdout",
     "output_type": "stream",
     "text": [
      "Mean of MBA grade distribution: 80.16947368421053\n",
      "Median of MBA grade distribution: 80.2\n",
      "Standard deviation of MBA grade distribution: 6.170780041112261\n"
     ]
    }
   ],
   "source": [
    "mean_grades = student_grades[\"MBA Grade\"].mean()\n",
    "median_grades = student_grades[\"MBA Grade\"].median()\n",
    "std_dev_grades = student_grades[\"MBA Grade\"].std()\n",
    "print(f\"Mean of MBA grade distribution: {mean_grades}\")\n",
    "print(f\"Median of MBA grade distribution: {median_grades}\")\n",
    "print(f\"Standard deviation of MBA grade distribution: {std_dev_grades}\")"
   ]
  },
  {
   "cell_type": "code",
   "execution_count": 232,
   "metadata": {},
   "outputs": [
    {
     "data": {
      "image/png": "[encoded data removed]",
      "text/plain": [
       "<Figure size 640x480 with 1 Axes>"
      ]
     },
     "metadata": {},
     "output_type": "display_data"
    }
   ],
   "source": [
    "# based on mean and standard deviation of distribution of MBA grades plot an idealized normal distribution\n",
    "def normal_dist(x, mean, std_dev):\n",
    "    prob_density_func = (1/(std_dev * np.sqrt(2*np.pi))) * np.exp(-0.5*((x-mean)/std_dev)**2)\n",
    "    return prob_density_func\n",
    "\n",
    "# get theoretical series of data points within 3 standard deviations of mean\n",
    "x = np.linspace(mean_grades - 3*std_dev_grades, mean_grades + 3*std_dev_grades, 200)\n",
    "\n",
    "prob_density_func = normal_dist(x, mean_grades, std_dev_grades)\n",
    "\n",
    "# plot theoretical normal distribution\n",
    "plt.plot(x, prob_density_func, color=\"black\")\n",
    "\n",
    "# plot title of distribution\n",
    "plt.title(\"Idealized Normal Distribution\")\n",
    "plt.xlabel(\"MBA Grade\")\n",
    "plt.ylabel(\"Probability Density\")\n",
    "\n",
    "student_grades[\"MBA Grade\"].plot(kind=\"hist\", bins=10, title=\"MBA Grade Distribution\", density=True)\n",
    "\n",
    "plt.show()"
   ]
  },
  {
   "cell_type": "code",
   "execution_count": 233,
   "metadata": {},
   "outputs": [
    {
     "data": {
      "text/html": [
       "<div>\n",
       "<style scoped>\n",
       "    .dataframe tbody tr th:only-of-type {\n",
       "        vertical-align: middle;\n",
       "    }\n",
       "\n",
       "    .dataframe tbody tr th {\n",
       "        vertical-align: top;\n",
       "    }\n",
       "\n",
       "    .dataframe thead th {\n",
       "        text-align: right;\n",
       "    }\n",
       "</style>\n",
       "<table border=\"1\" class=\"dataframe\">\n",
       "  <thead>\n",
       "    <tr style=\"text-align: right;\">\n",
       "      <th></th>\n",
       "      <th>Student ID</th>\n",
       "      <th>MBA Grade</th>\n",
       "      <th>Z Score MBA Grade</th>\n",
       "    </tr>\n",
       "  </thead>\n",
       "  <tbody>\n",
       "    <tr>\n",
       "      <th>0</th>\n",
       "      <td>1</td>\n",
       "      <td>90.2</td>\n",
       "      <td>1.625488</td>\n",
       "    </tr>\n",
       "    <tr>\n",
       "      <th>1</th>\n",
       "      <td>2</td>\n",
       "      <td>92.8</td>\n",
       "      <td>2.046828</td>\n",
       "    </tr>\n",
       "    <tr>\n",
       "      <th>2</th>\n",
       "      <td>3</td>\n",
       "      <td>68.7</td>\n",
       "      <td>-1.858675</td>\n",
       "    </tr>\n",
       "    <tr>\n",
       "      <th>3</th>\n",
       "      <td>4</td>\n",
       "      <td>80.7</td>\n",
       "      <td>0.085974</td>\n",
       "    </tr>\n",
       "    <tr>\n",
       "      <th>4</th>\n",
       "      <td>5</td>\n",
       "      <td>74.9</td>\n",
       "      <td>-0.853940</td>\n",
       "    </tr>\n",
       "    <tr>\n",
       "      <th>...</th>\n",
       "      <td>...</td>\n",
       "      <td>...</td>\n",
       "      <td>...</td>\n",
       "    </tr>\n",
       "    <tr>\n",
       "      <th>90</th>\n",
       "      <td>91</td>\n",
       "      <td>77.9</td>\n",
       "      <td>-0.367777</td>\n",
       "    </tr>\n",
       "    <tr>\n",
       "      <th>91</th>\n",
       "      <td>92</td>\n",
       "      <td>86.1</td>\n",
       "      <td>0.961066</td>\n",
       "    </tr>\n",
       "    <tr>\n",
       "      <th>92</th>\n",
       "      <td>93</td>\n",
       "      <td>89.9</td>\n",
       "      <td>1.576871</td>\n",
       "    </tr>\n",
       "    <tr>\n",
       "      <th>93</th>\n",
       "      <td>94</td>\n",
       "      <td>83.1</td>\n",
       "      <td>0.474904</td>\n",
       "    </tr>\n",
       "    <tr>\n",
       "      <th>94</th>\n",
       "      <td>95</td>\n",
       "      <td>82.6</td>\n",
       "      <td>0.393877</td>\n",
       "    </tr>\n",
       "  </tbody>\n",
       "</table>\n",
       "<p>95 rows × 3 columns</p>\n",
       "</div>"
      ],
      "text/plain": [
       "    Student ID  MBA Grade  Z Score MBA Grade\n",
       "0            1       90.2           1.625488\n",
       "1            2       92.8           2.046828\n",
       "2            3       68.7          -1.858675\n",
       "3            4       80.7           0.085974\n",
       "4            5       74.9          -0.853940\n",
       "..         ...        ...                ...\n",
       "90          91       77.9          -0.367777\n",
       "91          92       86.1           0.961066\n",
       "92          93       89.9           1.576871\n",
       "93          94       83.1           0.474904\n",
       "94          95       82.6           0.393877\n",
       "\n",
       "[95 rows x 3 columns]"
      ]
     },
     "execution_count": 233,
     "metadata": {},
     "output_type": "execute_result"
    }
   ],
   "source": [
    "# get Z Score MBA Grade for each student\n",
    "student_grades[\"Z Score MBA Grade\"] = (student_grades[\"MBA Grade\"] - mean_grades)/std_dev_grades\n",
    "student_grades.loc[:, [\"Student ID\", \"MBA Grade\", \"Z Score MBA Grade\"]]"
   ]
  },
  {
   "cell_type": "code",
   "execution_count": 234,
   "metadata": {},
   "outputs": [
    {
     "name": "stdout",
     "output_type": "stream",
     "text": [
      "Number of data points within 1 standard deviation of mean: 66\n",
      "Percentage of data points within 1 standard deviation of mean: 0.6947368421052632\n",
      "Number of data points within 2 standard deviations of mean: 90\n",
      "Percentage of data points within 2 standard deviations of mean: 0.9473684210526315\n",
      "Number of data points within 3 standard deviations of mean: 95\n",
      "Percentage of data points within 3 standard deviations of mean: 1.0\n"
     ]
    }
   ],
   "source": [
    "# verify MBA grade distribution is normal - if it follows empirical rule approximately\n",
    "# 68% of data points should be within 1 standard deviation of mean\n",
    "# 95% of data points should be within 2 standard deviations of mean\n",
    "# 99.7% of data points should be within 3 standard deviations of mean\n",
    "\n",
    "# get number of data points within 1 standard deviation of mean\n",
    "num_within_1_std_dev = student_grades.loc[(student_grades[\"Z Score MBA Grade\"] >= -1) & (student_grades[\"Z Score MBA Grade\"] <= 1), \"Z Score MBA Grade\"].count()\n",
    "print(f\"Number of data points within 1 standard deviation of mean: {num_within_1_std_dev}\")\n",
    "\n",
    "# get percentage of data points within 1 standard deviation of mean\n",
    "percent_within_1_std_dev = num_within_1_std_dev/student_grades[\"Z Score MBA Grade\"].count()\n",
    "print(f\"Percentage of data points within 1 standard deviation of mean: {percent_within_1_std_dev}\")\n",
    "\n",
    "# get number of data points within 2 standard deviations of mean\n",
    "num_within_2_std_dev = student_grades.loc[(student_grades[\"Z Score MBA Grade\"] >= -2) & (student_grades[\"Z Score MBA Grade\"] <= 2), \"Z Score MBA Grade\"].count()\n",
    "print(f\"Number of data points within 2 standard deviations of mean: {num_within_2_std_dev}\")\n",
    "\n",
    "# get percentage of data points within 2 standard deviations of mean\n",
    "percent_within_2_std_dev = num_within_2_std_dev/student_grades[\"Z Score MBA Grade\"].count()\n",
    "print(f\"Percentage of data points within 2 standard deviations of mean: {percent_within_2_std_dev}\")\n",
    "\n",
    "# get number of data points within 3 standard deviations of mean\n",
    "num_within_3_std_dev = student_grades.loc[(student_grades[\"Z Score MBA Grade\"] >= -3) & (student_grades[\"Z Score MBA Grade\"] <= 3), \"Z Score MBA Grade\"].count()\n",
    "print(f\"Number of data points within 3 standard deviations of mean: {num_within_3_std_dev}\")\n",
    "\n",
    "\n",
    "# get percentage of data points within 3 standard deviations of mean\n",
    "percent_within_3_std_dev = num_within_3_std_dev/student_grades[\"Z Score MBA Grade\"].count()\n",
    "print(f\"Percentage of data points within 3 standard deviations of mean: {percent_within_3_std_dev}\")"
   ]
  },
  {
   "attachments": {},
   "cell_type": "markdown",
   "metadata": {},
   "source": [
    "#### Get upper and lower bounds of idealized normal distribution for aforementioned parameters for MBA grade"
   ]
  },
  {
   "cell_type": "code",
   "execution_count": 235,
   "metadata": {},
   "outputs": [
    {
     "data": {
      "text/plain": [
       "(73.99869364309826, 86.3402537253228)"
      ]
     },
     "execution_count": 235,
     "metadata": {},
     "output_type": "execute_result"
    }
   ],
   "source": [
    "# get upper and lower bounds for 1 standard deviation of mean\n",
    "upper_bound_1_std_dev = mean_grades + std_dev_grades\n",
    "lower_bound_1_std_dev = mean_grades - std_dev_grades\n",
    "lower_bound_1_std_dev, upper_bound_1_std_dev"
   ]
  },
  {
   "cell_type": "code",
   "execution_count": 236,
   "metadata": {},
   "outputs": [
    {
     "data": {
      "text/plain": [
       "(67.82791360198601, 92.51103376643505)"
      ]
     },
     "execution_count": 236,
     "metadata": {},
     "output_type": "execute_result"
    }
   ],
   "source": [
    "# get upper and lower bounds for 2 standard deviations of mean\n",
    "upper_bound_2_std_dev = mean_grades + 2*std_dev_grades\n",
    "lower_bound_2_std_dev = mean_grades - 2*std_dev_grades\n",
    "lower_bound_2_std_dev, upper_bound_2_std_dev"
   ]
  },
  {
   "cell_type": "code",
   "execution_count": 237,
   "metadata": {},
   "outputs": [
    {
     "data": {
      "text/plain": [
       "(61.657133560873746, 98.68181380754731)"
      ]
     },
     "execution_count": 237,
     "metadata": {},
     "output_type": "execute_result"
    }
   ],
   "source": [
    "# get upper and lower bounds for 3 standard deviations of mean\n",
    "upper_bound_3_std_dev = mean_grades + 3*std_dev_grades\n",
    "lower_bound_3_std_dev = mean_grades - 3*std_dev_grades\n",
    "lower_bound_3_std_dev, upper_bound_3_std_dev"
   ]
  },
  {
   "attachments": {},
   "cell_type": "markdown",
   "metadata": {},
   "source": [
    "#### What is the probability of getting a grade of 70 or below?"
   ]
  },
  {
   "cell_type": "code",
   "execution_count": 238,
   "metadata": {},
   "outputs": [
    {
     "data": {
      "text/plain": [
       "0.049675867098227966"
      ]
     },
     "execution_count": 238,
     "metadata": {},
     "output_type": "execute_result"
    }
   ],
   "source": [
    "norm.cdf(70, mean_grades, std_dev_grades)"
   ]
  },
  {
   "attachments": {},
   "cell_type": "markdown",
   "metadata": {},
   "source": [
    "#### What is the probability of graduate getting score that is 1 standard deviation from the mean at the most?"
   ]
  },
  {
   "cell_type": "code",
   "execution_count": 239,
   "metadata": {},
   "outputs": [
    {
     "data": {
      "text/plain": [
       "0.6826894921370859"
      ]
     },
     "execution_count": 239,
     "metadata": {},
     "output_type": "execute_result"
    }
   ],
   "source": [
    "norm.cdf(1) - norm.cdf(-1)"
   ]
  },
  {
   "attachments": {},
   "cell_type": "markdown",
   "metadata": {},
   "source": [
    "#### Client is looking to classify any students that receive final grade greater than 90 as honor student. What is the probability of a student being classified as honor student? "
   ]
  },
  {
   "cell_type": "code",
   "execution_count": 240,
   "metadata": {},
   "outputs": [
    {
     "data": {
      "text/plain": [
       "0.05557148533193279"
      ]
     },
     "execution_count": 240,
     "metadata": {},
     "output_type": "execute_result"
    }
   ],
   "source": [
    "1 - norm.cdf(90, mean_grades, std_dev_grades)"
   ]
  },
  {
   "attachments": {},
   "cell_type": "markdown",
   "metadata": {},
   "source": [
    "#### Do annual salary of graduates follow a normal distribution?"
   ]
  },
  {
   "cell_type": "code",
   "execution_count": 241,
   "metadata": {},
   "outputs": [
    {
     "name": "stdout",
     "output_type": "stream",
     "text": [
      "Mean of Annual Salary: 119386.7924528302\n",
      "Median of Annual Salary: 104500.0\n",
      "Standard deviation of Annual Salary: 45546.95817647072\n"
     ]
    }
   ],
   "source": [
    "# get mean, median, standard deviation of Annual Salary\n",
    "mean_annual_salary = student_grades[\"Annual Salary\"].mean()\n",
    "std_dev_annual_salary = student_grades[\"Annual Salary\"].std()\n",
    "median_annual_salary = student_grades[\"Annual Salary\"].median()\n",
    "\n",
    "print(rf\"Mean of Annual Salary: {mean_annual_salary}\")\n",
    "print(rf\"Median of Annual Salary: {median_annual_salary}\")\n",
    "print(rf\"Standard deviation of Annual Salary: {std_dev_annual_salary}\")"
   ]
  },
  {
   "cell_type": "code",
   "execution_count": 242,
   "metadata": {},
   "outputs": [
    {
     "data": {
      "image/png": "[encoded data removed]",
      "text/plain": [
       "<Figure size 640x480 with 1 Axes>"
      ]
     },
     "metadata": {},
     "output_type": "display_data"
    }
   ],
   "source": [
    "# based on mean and standard deviation of distribution of MBA grades plot an idealized normal distribution\n",
    "def normal_dist(x, mean, std_dev):\n",
    "    prob_density_func = (1/(std_dev * np.sqrt(2*np.pi))) * np.exp(-0.5*((x-mean)/std_dev)**2)\n",
    "    return prob_density_func\n",
    "\n",
    "# get theoretical series of data points within 3 standard deviations of mean\n",
    "x = np.linspace(mean_annual_salary - 3*std_dev_annual_salary, mean_annual_salary + 3*std_dev_annual_salary, 200)\n",
    "\n",
    "prob_density_func = normal_dist(x, mean_annual_salary, std_dev_annual_salary)\n",
    "\n",
    "# plot theoretical normal distribution\n",
    "plt.plot(x, prob_density_func, color=\"black\")\n",
    "\n",
    "# plot title of distribution\n",
    "plt.title(\"Idealized Normal Distribution\")\n",
    "plt.xlabel(\"Annual Salary\")\n",
    "plt.ylabel(\"Probability Density\")\n",
    "\n",
    "student_grades[\"Annual Salary\"].plot(kind=\"hist\", bins=12, title=\"Annual Salary Distribution\", density=True)\n",
    "\n",
    "plt.show()"
   ]
  },
  {
   "cell_type": "code",
   "execution_count": 243,
   "metadata": {},
   "outputs": [
    {
     "data": {
      "text/html": [
       "<div>\n",
       "<style scoped>\n",
       "    .dataframe tbody tr th:only-of-type {\n",
       "        vertical-align: middle;\n",
       "    }\n",
       "\n",
       "    .dataframe tbody tr th {\n",
       "        vertical-align: top;\n",
       "    }\n",
       "\n",
       "    .dataframe thead th {\n",
       "        text-align: right;\n",
       "    }\n",
       "</style>\n",
       "<table border=\"1\" class=\"dataframe\">\n",
       "  <thead>\n",
       "    <tr style=\"text-align: right;\">\n",
       "      <th></th>\n",
       "      <th>Student ID</th>\n",
       "      <th>Annual Salary</th>\n",
       "      <th>Z Score Annual Salary</th>\n",
       "    </tr>\n",
       "  </thead>\n",
       "  <tbody>\n",
       "    <tr>\n",
       "      <th>0</th>\n",
       "      <td>1</td>\n",
       "      <td>111000.0</td>\n",
       "      <td>-0.184135</td>\n",
       "    </tr>\n",
       "    <tr>\n",
       "      <th>1</th>\n",
       "      <td>2</td>\n",
       "      <td>NaN</td>\n",
       "      <td>NaN</td>\n",
       "    </tr>\n",
       "    <tr>\n",
       "      <th>2</th>\n",
       "      <td>3</td>\n",
       "      <td>107000.0</td>\n",
       "      <td>-0.271957</td>\n",
       "    </tr>\n",
       "    <tr>\n",
       "      <th>3</th>\n",
       "      <td>4</td>\n",
       "      <td>NaN</td>\n",
       "      <td>NaN</td>\n",
       "    </tr>\n",
       "    <tr>\n",
       "      <th>4</th>\n",
       "      <td>5</td>\n",
       "      <td>NaN</td>\n",
       "      <td>NaN</td>\n",
       "    </tr>\n",
       "    <tr>\n",
       "      <th>...</th>\n",
       "      <td>...</td>\n",
       "      <td>...</td>\n",
       "      <td>...</td>\n",
       "    </tr>\n",
       "    <tr>\n",
       "      <th>90</th>\n",
       "      <td>91</td>\n",
       "      <td>99500.0</td>\n",
       "      <td>-0.436622</td>\n",
       "    </tr>\n",
       "    <tr>\n",
       "      <th>91</th>\n",
       "      <td>92</td>\n",
       "      <td>107000.0</td>\n",
       "      <td>-0.271957</td>\n",
       "    </tr>\n",
       "    <tr>\n",
       "      <th>92</th>\n",
       "      <td>93</td>\n",
       "      <td>NaN</td>\n",
       "      <td>NaN</td>\n",
       "    </tr>\n",
       "    <tr>\n",
       "      <th>93</th>\n",
       "      <td>94</td>\n",
       "      <td>84000.0</td>\n",
       "      <td>-0.776930</td>\n",
       "    </tr>\n",
       "    <tr>\n",
       "      <th>94</th>\n",
       "      <td>95</td>\n",
       "      <td>NaN</td>\n",
       "      <td>NaN</td>\n",
       "    </tr>\n",
       "  </tbody>\n",
       "</table>\n",
       "<p>95 rows × 3 columns</p>\n",
       "</div>"
      ],
      "text/plain": [
       "    Student ID  Annual Salary  Z Score Annual Salary\n",
       "0            1       111000.0              -0.184135\n",
       "1            2            NaN                    NaN\n",
       "2            3       107000.0              -0.271957\n",
       "3            4            NaN                    NaN\n",
       "4            5            NaN                    NaN\n",
       "..         ...            ...                    ...\n",
       "90          91        99500.0              -0.436622\n",
       "91          92       107000.0              -0.271957\n",
       "92          93            NaN                    NaN\n",
       "93          94        84000.0              -0.776930\n",
       "94          95            NaN                    NaN\n",
       "\n",
       "[95 rows x 3 columns]"
      ]
     },
     "execution_count": 243,
     "metadata": {},
     "output_type": "execute_result"
    }
   ],
   "source": [
    "# get Z Score Annual Salary for each student\n",
    "student_grades[\"Z Score Annual Salary\"] = (student_grades[\"Annual Salary\"] - mean_annual_salary)/std_dev_annual_salary\n",
    "student_grades.loc[:, [\"Student ID\", \"Annual Salary\", \"Z Score Annual Salary\"]]"
   ]
  },
  {
   "attachments": {},
   "cell_type": "markdown",
   "metadata": {},
   "source": [
    "#### Get upper and lower bounds of idealized normal distribution for aforementioned parameters for Annual Salary"
   ]
  },
  {
   "cell_type": "code",
   "execution_count": 244,
   "metadata": {},
   "outputs": [
    {
     "name": "stdout",
     "output_type": "stream",
     "text": [
      "Number of data points within 1 standard deviation of mean: 47\n",
      "Percentage of data points within 1 standard deviation of mean: 0.8867924528301887\n",
      "Number of data points within 2 standard deviations of mean: 51\n",
      "Percentage of data points within 2 standard deviations of mean: 0.9622641509433962\n",
      "Number of data points within 3 standard deviations of mean: 52\n",
      "Percentage of data points within 3 standard deviations of mean: 0.9811320754716981\n"
     ]
    }
   ],
   "source": [
    "# verify Annual Salary distribution is normal - if it follows empirical rule approximately\n",
    "# 68% of data points should be within 1 standard deviation of mean\n",
    "# 95% of data points should be within 2 standard deviations of mean\n",
    "# 99.7% of data points should be within 3 standard deviations of mean\n",
    "\n",
    "# get number of data points within 1 standard deviation of mean\n",
    "num_within_1_std_dev = student_grades.loc[(student_grades[\"Z Score Annual Salary\"] >= -1) & (student_grades[\"Z Score Annual Salary\"] <= 1), \"Z Score Annual Salary\"].count()\n",
    "print(f\"Number of data points within 1 standard deviation of mean: {num_within_1_std_dev}\")\n",
    "\n",
    "# get percentage of data points within 1 standard deviation of mean\n",
    "percent_within_1_std_dev = num_within_1_std_dev/student_grades[\"Z Score Annual Salary\"].count()\n",
    "print(f\"Percentage of data points within 1 standard deviation of mean: {percent_within_1_std_dev}\")\n",
    "\n",
    "# get number of data points within 2 standard deviations of mean\n",
    "num_within_2_std_dev = student_grades.loc[(student_grades[\"Z Score Annual Salary\"] >= -2) & (student_grades[\"Z Score Annual Salary\"] <= 2), \"Z Score Annual Salary\"].count()\n",
    "print(f\"Number of data points within 2 standard deviations of mean: {num_within_2_std_dev}\")\n",
    "\n",
    "# get percentage of data points within 2 standard deviations of mean\n",
    "percent_within_2_std_dev = num_within_2_std_dev/student_grades[\"Z Score Annual Salary\"].count()\n",
    "print(f\"Percentage of data points within 2 standard deviations of mean: {percent_within_2_std_dev}\")\n",
    "\n",
    "# get number of data points within 3 standard deviations of mean\n",
    "num_within_3_std_dev = student_grades.loc[(student_grades[\"Z Score Annual Salary\"] >= -3) & (student_grades[\"Z Score Annual Salary\"] <= 3), \"Z Score Annual Salary\"].count()\n",
    "print(f\"Number of data points within 3 standard deviations of mean: {num_within_3_std_dev}\")\n",
    "\n",
    "# get percentage of data points within 3 standard deviations of mean\n",
    "percent_within_3_std_dev = num_within_3_std_dev/student_grades[\"Z Score Annual Salary\"].count()\n",
    "print(f\"Percentage of data points within 3 standard deviations of mean: {percent_within_3_std_dev}\")"
   ]
  },
  {
   "attachments": {},
   "cell_type": "markdown",
   "metadata": {},
   "source": [
    "##### From above plot and metrics it seems too large a number of data points for annual salary are concentrated within 1 standard deviation of mean for it to be a normal distribution. Hence, we can assume that annual salary of graduates does not follow a normal distribution."
   ]
  },
  {
   "attachments": {},
   "cell_type": "markdown",
   "metadata": {},
   "source": [
    "#### Get upper and lower bounds of idealized normal distribution for aforementioned parameters for Annual Salary"
   ]
  },
  {
   "cell_type": "code",
   "execution_count": 245,
   "metadata": {},
   "outputs": [
    {
     "data": {
      "text/plain": [
       "(73839.83427635947, 164933.75062930092)"
      ]
     },
     "execution_count": 245,
     "metadata": {},
     "output_type": "execute_result"
    }
   ],
   "source": [
    "# get upper and lower bounds for 1 standard deviation of mean\n",
    "upper_bound_1_std_dev = mean_annual_salary + std_dev_annual_salary\n",
    "lower_bound_1_std_dev = mean_annual_salary - std_dev_annual_salary\n",
    "lower_bound_1_std_dev, upper_bound_1_std_dev"
   ]
  },
  {
   "cell_type": "code",
   "execution_count": 246,
   "metadata": {},
   "outputs": [
    {
     "data": {
      "text/plain": [
       "(28292.87609988876, 210480.70880577163)"
      ]
     },
     "execution_count": 246,
     "metadata": {},
     "output_type": "execute_result"
    }
   ],
   "source": [
    "# get upper and lower bounds for 2 standard deviations of mean\n",
    "upper_bound_2_std_dev = mean_annual_salary + 2*std_dev_annual_salary    \n",
    "lower_bound_2_std_dev = mean_annual_salary - 2*std_dev_annual_salary\n",
    "lower_bound_2_std_dev, upper_bound_2_std_dev"
   ]
  },
  {
   "cell_type": "code",
   "execution_count": 247,
   "metadata": {},
   "outputs": [
    {
     "data": {
      "text/plain": [
       "(-17254.082076581966, 256027.66698224237)"
      ]
     },
     "execution_count": 247,
     "metadata": {},
     "output_type": "execute_result"
    }
   ],
   "source": [
    "# get upper and lower bounds for 3 standard deviations of mean\n",
    "upper_bound_3_std_dev = mean_annual_salary + 3*std_dev_annual_salary\n",
    "lower_bound_3_std_dev = mean_annual_salary - 3*std_dev_annual_salary\n",
    "lower_bound_3_std_dev, upper_bound_3_std_dev"
   ]
  },
  {
   "cell_type": "code",
   "execution_count": null,
   "metadata": {},
   "outputs": [],
   "source": []
  }
 ],
 "metadata": {
  "kernelspec": {
   "display_name": "Python 3",
   "language": "python",
   "name": "python3"
  },
  "language_info": {
   "codemirror_mode": {
    "name": "ipython",
    "version": 3
   },
   "file_extension": ".py",
   "mimetype": "text/x-python",
   "name": "python",
   "nbconvert_exporter": "python",
   "pygments_lexer": "ipython3",
   "version": "3.10.9"
  },
  "orig_nbformat": 4
 },
 "nbformat": 4,
 "nbformat_minor": 2
}
