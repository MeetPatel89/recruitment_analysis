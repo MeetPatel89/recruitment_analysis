{
 "cells": [
  {
   "cell_type": "code",
   "execution_count": 182,
   "metadata": {},
   "outputs": [],
   "source": [
    "import pandas as pd\n",
    "import numpy as np\n",
    "import datetime \n",
    "import seaborn as sns\n",
    "import config "
   ]
  },
  {
   "cell_type": "code",
   "execution_count": 183,
   "metadata": {},
   "outputs": [],
   "source": [
    "# get module variables\n",
    "ROOT_DIR = config.ROOT_DIR"
   ]
  },
  {
   "cell_type": "code",
   "execution_count": 184,
   "metadata": {},
   "outputs": [],
   "source": [
    "student_grades = pd.read_csv(rf\"{ROOT_DIR}\\data\\student_grades.csv\")"
   ]
  },
  {
   "cell_type": "code",
   "execution_count": 185,
   "metadata": {},
   "outputs": [
    {
     "data": {
      "text/html": [
       "<div>\n",
       "<style scoped>\n",
       "    .dataframe tbody tr th:only-of-type {\n",
       "        vertical-align: middle;\n",
       "    }\n",
       "\n",
       "    .dataframe tbody tr th {\n",
       "        vertical-align: top;\n",
       "    }\n",
       "\n",
       "    .dataframe thead th {\n",
       "        text-align: right;\n",
       "    }\n",
       "</style>\n",
       "<table border=\"1\" class=\"dataframe\">\n",
       "  <thead>\n",
       "    <tr style=\"text-align: right;\">\n",
       "      <th></th>\n",
       "      <th>Student ID</th>\n",
       "      <th>Undergrad Degree</th>\n",
       "      <th>Undergrad Grade</th>\n",
       "      <th>MBA Grade</th>\n",
       "      <th>Work Experience</th>\n",
       "      <th>Employability (Before)</th>\n",
       "      <th>Employability (After)</th>\n",
       "      <th>Status</th>\n",
       "      <th>Annual Salary</th>\n",
       "    </tr>\n",
       "  </thead>\n",
       "  <tbody>\n",
       "    <tr>\n",
       "      <th>0</th>\n",
       "      <td>1</td>\n",
       "      <td>Business</td>\n",
       "      <td>68.4</td>\n",
       "      <td>90.2</td>\n",
       "      <td>No</td>\n",
       "      <td>252</td>\n",
       "      <td>276</td>\n",
       "      <td>Placed</td>\n",
       "      <td>111000.0</td>\n",
       "    </tr>\n",
       "    <tr>\n",
       "      <th>1</th>\n",
       "      <td>2</td>\n",
       "      <td>Business</td>\n",
       "      <td>62.1</td>\n",
       "      <td>92.8</td>\n",
       "      <td>No</td>\n",
       "      <td>423</td>\n",
       "      <td>410</td>\n",
       "      <td>Not Placed</td>\n",
       "      <td>NaN</td>\n",
       "    </tr>\n",
       "    <tr>\n",
       "      <th>2</th>\n",
       "      <td>3</td>\n",
       "      <td>Computer Science</td>\n",
       "      <td>70.2</td>\n",
       "      <td>68.7</td>\n",
       "      <td>Yes</td>\n",
       "      <td>101</td>\n",
       "      <td>119</td>\n",
       "      <td>Placed</td>\n",
       "      <td>107000.0</td>\n",
       "    </tr>\n",
       "    <tr>\n",
       "      <th>3</th>\n",
       "      <td>4</td>\n",
       "      <td>Engineering</td>\n",
       "      <td>75.1</td>\n",
       "      <td>80.7</td>\n",
       "      <td>No</td>\n",
       "      <td>288</td>\n",
       "      <td>334</td>\n",
       "      <td>Not Placed</td>\n",
       "      <td>NaN</td>\n",
       "    </tr>\n",
       "    <tr>\n",
       "      <th>4</th>\n",
       "      <td>5</td>\n",
       "      <td>Finance</td>\n",
       "      <td>60.9</td>\n",
       "      <td>74.9</td>\n",
       "      <td>No</td>\n",
       "      <td>248</td>\n",
       "      <td>252</td>\n",
       "      <td>Not Placed</td>\n",
       "      <td>NaN</td>\n",
       "    </tr>\n",
       "  </tbody>\n",
       "</table>\n",
       "</div>"
      ],
      "text/plain": [
       "   Student ID  Undergrad Degree  Undergrad Grade  MBA Grade Work Experience  \\\n",
       "0           1          Business             68.4       90.2              No   \n",
       "1           2          Business             62.1       92.8              No   \n",
       "2           3  Computer Science             70.2       68.7             Yes   \n",
       "3           4       Engineering             75.1       80.7              No   \n",
       "4           5           Finance             60.9       74.9              No   \n",
       "\n",
       "   Employability (Before)  Employability (After)      Status  Annual Salary  \n",
       "0                     252                    276      Placed       111000.0  \n",
       "1                     423                    410  Not Placed            NaN  \n",
       "2                     101                    119      Placed       107000.0  \n",
       "3                     288                    334  Not Placed            NaN  \n",
       "4                     248                    252  Not Placed            NaN  "
      ]
     },
     "execution_count": 185,
     "metadata": {},
     "output_type": "execute_result"
    }
   ],
   "source": [
    "student_grades.head()"
   ]
  },
  {
   "cell_type": "code",
   "execution_count": 186,
   "metadata": {},
   "outputs": [
    {
     "name": "stdout",
     "output_type": "stream",
     "text": [
      "<class 'pandas.core.frame.DataFrame'>\n",
      "RangeIndex: 95 entries, 0 to 94\n",
      "Data columns (total 9 columns):\n",
      " #   Column                  Non-Null Count  Dtype  \n",
      "---  ------                  --------------  -----  \n",
      " 0   Student ID              95 non-null     int64  \n",
      " 1   Undergrad Degree        95 non-null     object \n",
      " 2   Undergrad Grade         95 non-null     float64\n",
      " 3   MBA Grade               95 non-null     float64\n",
      " 4   Work Experience         95 non-null     object \n",
      " 5   Employability (Before)  95 non-null     int64  \n",
      " 6   Employability (After)   95 non-null     int64  \n",
      " 7   Status                  95 non-null     object \n",
      " 8   Annual Salary           53 non-null     float64\n",
      "dtypes: float64(3), int64(3), object(3)\n",
      "memory usage: 6.8+ KB\n"
     ]
    }
   ],
   "source": [
    "student_grades.info()"
   ]
  },
  {
   "cell_type": "code",
   "execution_count": 187,
   "metadata": {},
   "outputs": [
    {
     "data": {
      "text/html": [
       "<div>\n",
       "<style scoped>\n",
       "    .dataframe tbody tr th:only-of-type {\n",
       "        vertical-align: middle;\n",
       "    }\n",
       "\n",
       "    .dataframe tbody tr th {\n",
       "        vertical-align: top;\n",
       "    }\n",
       "\n",
       "    .dataframe thead th {\n",
       "        text-align: right;\n",
       "    }\n",
       "</style>\n",
       "<table border=\"1\" class=\"dataframe\">\n",
       "  <thead>\n",
       "    <tr style=\"text-align: right;\">\n",
       "      <th></th>\n",
       "      <th>Undergrad Grade</th>\n",
       "      <th>MBA Grade</th>\n",
       "      <th>Employability (Before)</th>\n",
       "      <th>Employability (After)</th>\n",
       "      <th>Annual Salary</th>\n",
       "    </tr>\n",
       "  </thead>\n",
       "  <tbody>\n",
       "    <tr>\n",
       "      <th>count</th>\n",
       "      <td>95.000000</td>\n",
       "      <td>95.000000</td>\n",
       "      <td>95.000000</td>\n",
       "      <td>95.000000</td>\n",
       "      <td>53.000000</td>\n",
       "    </tr>\n",
       "    <tr>\n",
       "      <th>mean</th>\n",
       "      <td>74.973684</td>\n",
       "      <td>80.169474</td>\n",
       "      <td>239.905263</td>\n",
       "      <td>289.347368</td>\n",
       "      <td>119386.792453</td>\n",
       "    </tr>\n",
       "    <tr>\n",
       "      <th>std</th>\n",
       "      <td>7.541731</td>\n",
       "      <td>6.170780</td>\n",
       "      <td>85.940488</td>\n",
       "      <td>93.521049</td>\n",
       "      <td>45546.958176</td>\n",
       "    </tr>\n",
       "    <tr>\n",
       "      <th>min</th>\n",
       "      <td>60.900000</td>\n",
       "      <td>62.600000</td>\n",
       "      <td>62.000000</td>\n",
       "      <td>102.000000</td>\n",
       "      <td>75500.000000</td>\n",
       "    </tr>\n",
       "    <tr>\n",
       "      <th>25%</th>\n",
       "      <td>68.700000</td>\n",
       "      <td>76.050000</td>\n",
       "      <td>181.500000</td>\n",
       "      <td>228.000000</td>\n",
       "      <td>99000.000000</td>\n",
       "    </tr>\n",
       "    <tr>\n",
       "      <th>50%</th>\n",
       "      <td>75.600000</td>\n",
       "      <td>80.200000</td>\n",
       "      <td>236.000000</td>\n",
       "      <td>286.000000</td>\n",
       "      <td>104500.000000</td>\n",
       "    </tr>\n",
       "    <tr>\n",
       "      <th>75%</th>\n",
       "      <td>79.350000</td>\n",
       "      <td>84.650000</td>\n",
       "      <td>287.000000</td>\n",
       "      <td>348.000000</td>\n",
       "      <td>124000.000000</td>\n",
       "    </tr>\n",
       "    <tr>\n",
       "      <th>max</th>\n",
       "      <td>100.000000</td>\n",
       "      <td>96.100000</td>\n",
       "      <td>423.000000</td>\n",
       "      <td>481.000000</td>\n",
       "      <td>340000.000000</td>\n",
       "    </tr>\n",
       "  </tbody>\n",
       "</table>\n",
       "</div>"
      ],
      "text/plain": [
       "       Undergrad Grade  MBA Grade  Employability (Before)  \\\n",
       "count        95.000000  95.000000               95.000000   \n",
       "mean         74.973684  80.169474              239.905263   \n",
       "std           7.541731   6.170780               85.940488   \n",
       "min          60.900000  62.600000               62.000000   \n",
       "25%          68.700000  76.050000              181.500000   \n",
       "50%          75.600000  80.200000              236.000000   \n",
       "75%          79.350000  84.650000              287.000000   \n",
       "max         100.000000  96.100000              423.000000   \n",
       "\n",
       "       Employability (After)  Annual Salary  \n",
       "count              95.000000      53.000000  \n",
       "mean              289.347368  119386.792453  \n",
       "std                93.521049   45546.958176  \n",
       "min               102.000000   75500.000000  \n",
       "25%               228.000000   99000.000000  \n",
       "50%               286.000000  104500.000000  \n",
       "75%               348.000000  124000.000000  \n",
       "max               481.000000  340000.000000  "
      ]
     },
     "execution_count": 187,
     "metadata": {},
     "output_type": "execute_result"
    }
   ],
   "source": [
    "# summary satistics for numeric columns\n",
    "student_grades.loc[:, [\"Undergrad Grade\", \"MBA Grade\", \"Employability (Before)\", \"Employability (After)\", \"Annual Salary\"]].describe()"
   ]
  },
  {
   "attachments": {},
   "cell_type": "markdown",
   "metadata": {},
   "source": [
    "#### What is absolute number and propertion of undergrad degrees taken by students?"
   ]
  },
  {
   "cell_type": "code",
   "execution_count": 188,
   "metadata": {},
   "outputs": [
    {
     "data": {
      "text/html": [
       "<div>\n",
       "<style scoped>\n",
       "    .dataframe tbody tr th:only-of-type {\n",
       "        vertical-align: middle;\n",
       "    }\n",
       "\n",
       "    .dataframe tbody tr th {\n",
       "        vertical-align: top;\n",
       "    }\n",
       "\n",
       "    .dataframe thead th {\n",
       "        text-align: right;\n",
       "    }\n",
       "</style>\n",
       "<table border=\"1\" class=\"dataframe\">\n",
       "  <thead>\n",
       "    <tr style=\"text-align: right;\">\n",
       "      <th></th>\n",
       "      <th>Absolute Frequency</th>\n",
       "    </tr>\n",
       "    <tr>\n",
       "      <th>Undergrad Degree</th>\n",
       "      <th></th>\n",
       "    </tr>\n",
       "  </thead>\n",
       "  <tbody>\n",
       "    <tr>\n",
       "      <th>Business</th>\n",
       "      <td>36</td>\n",
       "    </tr>\n",
       "    <tr>\n",
       "      <th>Computer Science</th>\n",
       "      <td>19</td>\n",
       "    </tr>\n",
       "    <tr>\n",
       "      <th>Engineering</th>\n",
       "      <td>18</td>\n",
       "    </tr>\n",
       "    <tr>\n",
       "      <th>Finance</th>\n",
       "      <td>13</td>\n",
       "    </tr>\n",
       "    <tr>\n",
       "      <th>Art</th>\n",
       "      <td>9</td>\n",
       "    </tr>\n",
       "  </tbody>\n",
       "</table>\n",
       "</div>"
      ],
      "text/plain": [
       "                  Absolute Frequency\n",
       "Undergrad Degree                    \n",
       "Business                          36\n",
       "Computer Science                  19\n",
       "Engineering                       18\n",
       "Finance                           13\n",
       "Art                                9"
      ]
     },
     "execution_count": 188,
     "metadata": {},
     "output_type": "execute_result"
    }
   ],
   "source": [
    "# absolute frequency table for Undergrad Degree\n",
    "student_grades.loc[:, [\"Undergrad Degree\"]].value_counts().to_frame(name=\"Absolute Frequency\")"
   ]
  },
  {
   "cell_type": "code",
   "execution_count": 189,
   "metadata": {},
   "outputs": [
    {
     "data": {
      "text/html": [
       "<div>\n",
       "<style scoped>\n",
       "    .dataframe tbody tr th:only-of-type {\n",
       "        vertical-align: middle;\n",
       "    }\n",
       "\n",
       "    .dataframe tbody tr th {\n",
       "        vertical-align: top;\n",
       "    }\n",
       "\n",
       "    .dataframe thead th {\n",
       "        text-align: right;\n",
       "    }\n",
       "</style>\n",
       "<table border=\"1\" class=\"dataframe\">\n",
       "  <thead>\n",
       "    <tr style=\"text-align: right;\">\n",
       "      <th></th>\n",
       "      <th>Relative Frequency</th>\n",
       "    </tr>\n",
       "    <tr>\n",
       "      <th>Undergrad Degree</th>\n",
       "      <th></th>\n",
       "    </tr>\n",
       "  </thead>\n",
       "  <tbody>\n",
       "    <tr>\n",
       "      <th>Business</th>\n",
       "      <td>0.378947</td>\n",
       "    </tr>\n",
       "    <tr>\n",
       "      <th>Computer Science</th>\n",
       "      <td>0.200000</td>\n",
       "    </tr>\n",
       "    <tr>\n",
       "      <th>Engineering</th>\n",
       "      <td>0.189474</td>\n",
       "    </tr>\n",
       "    <tr>\n",
       "      <th>Finance</th>\n",
       "      <td>0.136842</td>\n",
       "    </tr>\n",
       "    <tr>\n",
       "      <th>Art</th>\n",
       "      <td>0.094737</td>\n",
       "    </tr>\n",
       "  </tbody>\n",
       "</table>\n",
       "</div>"
      ],
      "text/plain": [
       "                  Relative Frequency\n",
       "Undergrad Degree                    \n",
       "Business                    0.378947\n",
       "Computer Science            0.200000\n",
       "Engineering                 0.189474\n",
       "Finance                     0.136842\n",
       "Art                         0.094737"
      ]
     },
     "execution_count": 189,
     "metadata": {},
     "output_type": "execute_result"
    }
   ],
   "source": [
    "# relative frequency table for Undergrad Degree\n",
    "student_grades.loc[:, [\"Undergrad Degree\"]].value_counts(normalize=True).to_frame(name=\"Relative Frequency\")"
   ]
  },
  {
   "attachments": {},
   "cell_type": "markdown",
   "metadata": {},
   "source": [
    "### What proportion of graduates were placed within 2 months of graduation?"
   ]
  },
  {
   "cell_type": "code",
   "execution_count": 190,
   "metadata": {},
   "outputs": [
    {
     "data": {
      "text/html": [
       "<div>\n",
       "<style scoped>\n",
       "    .dataframe tbody tr th:only-of-type {\n",
       "        vertical-align: middle;\n",
       "    }\n",
       "\n",
       "    .dataframe tbody tr th {\n",
       "        vertical-align: top;\n",
       "    }\n",
       "\n",
       "    .dataframe thead th {\n",
       "        text-align: right;\n",
       "    }\n",
       "</style>\n",
       "<table border=\"1\" class=\"dataframe\">\n",
       "  <thead>\n",
       "    <tr style=\"text-align: right;\">\n",
       "      <th></th>\n",
       "      <th>Absolute Frequency</th>\n",
       "    </tr>\n",
       "    <tr>\n",
       "      <th>Status</th>\n",
       "      <th></th>\n",
       "    </tr>\n",
       "  </thead>\n",
       "  <tbody>\n",
       "    <tr>\n",
       "      <th>Placed</th>\n",
       "      <td>53</td>\n",
       "    </tr>\n",
       "    <tr>\n",
       "      <th>Not Placed</th>\n",
       "      <td>42</td>\n",
       "    </tr>\n",
       "  </tbody>\n",
       "</table>\n",
       "</div>"
      ],
      "text/plain": [
       "            Absolute Frequency\n",
       "Status                        \n",
       "Placed                      53\n",
       "Not Placed                  42"
      ]
     },
     "execution_count": 190,
     "metadata": {},
     "output_type": "execute_result"
    }
   ],
   "source": [
    "# absolute frequency table for Categorical Variable Status\n",
    "student_grades.loc[:, [\"Status\"]].value_counts().to_frame(name=\"Absolute Frequency\")"
   ]
  },
  {
   "cell_type": "code",
   "execution_count": 191,
   "metadata": {},
   "outputs": [
    {
     "data": {
      "text/html": [
       "<div>\n",
       "<style scoped>\n",
       "    .dataframe tbody tr th:only-of-type {\n",
       "        vertical-align: middle;\n",
       "    }\n",
       "\n",
       "    .dataframe tbody tr th {\n",
       "        vertical-align: top;\n",
       "    }\n",
       "\n",
       "    .dataframe thead th {\n",
       "        text-align: right;\n",
       "    }\n",
       "</style>\n",
       "<table border=\"1\" class=\"dataframe\">\n",
       "  <thead>\n",
       "    <tr style=\"text-align: right;\">\n",
       "      <th></th>\n",
       "      <th>Relative Frequency</th>\n",
       "    </tr>\n",
       "    <tr>\n",
       "      <th>Status</th>\n",
       "      <th></th>\n",
       "    </tr>\n",
       "  </thead>\n",
       "  <tbody>\n",
       "    <tr>\n",
       "      <th>Placed</th>\n",
       "      <td>0.557895</td>\n",
       "    </tr>\n",
       "    <tr>\n",
       "      <th>Not Placed</th>\n",
       "      <td>0.442105</td>\n",
       "    </tr>\n",
       "  </tbody>\n",
       "</table>\n",
       "</div>"
      ],
      "text/plain": [
       "            Relative Frequency\n",
       "Status                        \n",
       "Placed                0.557895\n",
       "Not Placed            0.442105"
      ]
     },
     "execution_count": 191,
     "metadata": {},
     "output_type": "execute_result"
    }
   ],
   "source": [
    "# relative frequency table for Categorical Variable Status\n",
    "student_grades.loc[:, [\"Status\"]].value_counts(normalize=True).to_frame(name=\"Relative Frequency\")"
   ]
  },
  {
   "attachments": {},
   "cell_type": "markdown",
   "metadata": {},
   "source": [
    "#### Analyze continuous numeric variable Undergrad grade"
   ]
  },
  {
   "cell_type": "code",
   "execution_count": 192,
   "metadata": {},
   "outputs": [
    {
     "data": {
      "text/html": [
       "<div>\n",
       "<style scoped>\n",
       "    .dataframe tbody tr th:only-of-type {\n",
       "        vertical-align: middle;\n",
       "    }\n",
       "\n",
       "    .dataframe tbody tr th {\n",
       "        vertical-align: top;\n",
       "    }\n",
       "\n",
       "    .dataframe thead th {\n",
       "        text-align: right;\n",
       "    }\n",
       "</style>\n",
       "<table border=\"1\" class=\"dataframe\">\n",
       "  <thead>\n",
       "    <tr style=\"text-align: right;\">\n",
       "      <th></th>\n",
       "      <th>Student ID</th>\n",
       "      <th>Undergrad Degree</th>\n",
       "      <th>Undergrad Grade</th>\n",
       "      <th>MBA Grade</th>\n",
       "      <th>Work Experience</th>\n",
       "      <th>Employability (Before)</th>\n",
       "      <th>Employability (After)</th>\n",
       "      <th>Status</th>\n",
       "      <th>Annual Salary</th>\n",
       "    </tr>\n",
       "  </thead>\n",
       "  <tbody>\n",
       "    <tr>\n",
       "      <th>0</th>\n",
       "      <td>1</td>\n",
       "      <td>Business</td>\n",
       "      <td>68.4</td>\n",
       "      <td>90.2</td>\n",
       "      <td>No</td>\n",
       "      <td>252</td>\n",
       "      <td>276</td>\n",
       "      <td>Placed</td>\n",
       "      <td>111000.0</td>\n",
       "    </tr>\n",
       "    <tr>\n",
       "      <th>1</th>\n",
       "      <td>2</td>\n",
       "      <td>Business</td>\n",
       "      <td>62.1</td>\n",
       "      <td>92.8</td>\n",
       "      <td>No</td>\n",
       "      <td>423</td>\n",
       "      <td>410</td>\n",
       "      <td>Not Placed</td>\n",
       "      <td>NaN</td>\n",
       "    </tr>\n",
       "    <tr>\n",
       "      <th>2</th>\n",
       "      <td>3</td>\n",
       "      <td>Computer Science</td>\n",
       "      <td>70.2</td>\n",
       "      <td>68.7</td>\n",
       "      <td>Yes</td>\n",
       "      <td>101</td>\n",
       "      <td>119</td>\n",
       "      <td>Placed</td>\n",
       "      <td>107000.0</td>\n",
       "    </tr>\n",
       "    <tr>\n",
       "      <th>3</th>\n",
       "      <td>4</td>\n",
       "      <td>Engineering</td>\n",
       "      <td>75.1</td>\n",
       "      <td>80.7</td>\n",
       "      <td>No</td>\n",
       "      <td>288</td>\n",
       "      <td>334</td>\n",
       "      <td>Not Placed</td>\n",
       "      <td>NaN</td>\n",
       "    </tr>\n",
       "    <tr>\n",
       "      <th>4</th>\n",
       "      <td>5</td>\n",
       "      <td>Finance</td>\n",
       "      <td>60.9</td>\n",
       "      <td>74.9</td>\n",
       "      <td>No</td>\n",
       "      <td>248</td>\n",
       "      <td>252</td>\n",
       "      <td>Not Placed</td>\n",
       "      <td>NaN</td>\n",
       "    </tr>\n",
       "  </tbody>\n",
       "</table>\n",
       "</div>"
      ],
      "text/plain": [
       "   Student ID  Undergrad Degree  Undergrad Grade  MBA Grade Work Experience  \\\n",
       "0           1          Business             68.4       90.2              No   \n",
       "1           2          Business             62.1       92.8              No   \n",
       "2           3  Computer Science             70.2       68.7             Yes   \n",
       "3           4       Engineering             75.1       80.7              No   \n",
       "4           5           Finance             60.9       74.9              No   \n",
       "\n",
       "   Employability (Before)  Employability (After)      Status  Annual Salary  \n",
       "0                     252                    276      Placed       111000.0  \n",
       "1                     423                    410  Not Placed            NaN  \n",
       "2                     101                    119      Placed       107000.0  \n",
       "3                     288                    334  Not Placed            NaN  \n",
       "4                     248                    252  Not Placed            NaN  "
      ]
     },
     "execution_count": 192,
     "metadata": {},
     "output_type": "execute_result"
    }
   ],
   "source": [
    "student_grades.head()"
   ]
  },
  {
   "cell_type": "code",
   "execution_count": 193,
   "metadata": {},
   "outputs": [
    {
     "name": "stdout",
     "output_type": "stream",
     "text": [
      "[ 60.9   64.81  68.72  72.63  76.54  80.45  84.36  88.27  92.18  96.09\n",
      " 100.  ]\n"
     ]
    }
   ],
   "source": [
    "sns.set_style('whitegrid')\n",
    "\n",
    "# extract the bin edges for Undergrad Grade\n",
    "bin_edges = np.histogram(student_grades[\"Undergrad Grade\"])[1]\n",
    "print(bin_edges)"
   ]
  },
  {
   "cell_type": "code",
   "execution_count": 194,
   "metadata": {},
   "outputs": [
    {
     "data": {
      "text/html": [
       "<div>\n",
       "<style scoped>\n",
       "    .dataframe tbody tr th:only-of-type {\n",
       "        vertical-align: middle;\n",
       "    }\n",
       "\n",
       "    .dataframe tbody tr th {\n",
       "        vertical-align: top;\n",
       "    }\n",
       "\n",
       "    .dataframe thead th {\n",
       "        text-align: right;\n",
       "    }\n",
       "</style>\n",
       "<table border=\"1\" class=\"dataframe\">\n",
       "  <thead>\n",
       "    <tr style=\"text-align: right;\">\n",
       "      <th></th>\n",
       "      <th>Undergrad Grade</th>\n",
       "      <th>Absolute Frequency</th>\n",
       "      <th>Relative Frequency</th>\n",
       "    </tr>\n",
       "  </thead>\n",
       "  <tbody>\n",
       "    <tr>\n",
       "      <th>0</th>\n",
       "      <td>(72.63, 76.54]</td>\n",
       "      <td>24</td>\n",
       "      <td>0.255319</td>\n",
       "    </tr>\n",
       "    <tr>\n",
       "      <th>1</th>\n",
       "      <td>(64.81, 68.72]</td>\n",
       "      <td>17</td>\n",
       "      <td>0.180851</td>\n",
       "    </tr>\n",
       "    <tr>\n",
       "      <th>2</th>\n",
       "      <td>(76.54, 80.45]</td>\n",
       "      <td>15</td>\n",
       "      <td>0.159574</td>\n",
       "    </tr>\n",
       "    <tr>\n",
       "      <th>3</th>\n",
       "      <td>(80.45, 84.36]</td>\n",
       "      <td>13</td>\n",
       "      <td>0.138298</td>\n",
       "    </tr>\n",
       "    <tr>\n",
       "      <th>4</th>\n",
       "      <td>(68.72, 72.63]</td>\n",
       "      <td>11</td>\n",
       "      <td>0.117021</td>\n",
       "    </tr>\n",
       "    <tr>\n",
       "      <th>5</th>\n",
       "      <td>(60.9, 64.81]</td>\n",
       "      <td>7</td>\n",
       "      <td>0.074468</td>\n",
       "    </tr>\n",
       "    <tr>\n",
       "      <th>6</th>\n",
       "      <td>(88.27, 92.18]</td>\n",
       "      <td>3</td>\n",
       "      <td>0.031915</td>\n",
       "    </tr>\n",
       "    <tr>\n",
       "      <th>7</th>\n",
       "      <td>(84.36, 88.27]</td>\n",
       "      <td>2</td>\n",
       "      <td>0.021277</td>\n",
       "    </tr>\n",
       "    <tr>\n",
       "      <th>8</th>\n",
       "      <td>(92.18, 96.09]</td>\n",
       "      <td>1</td>\n",
       "      <td>0.010638</td>\n",
       "    </tr>\n",
       "    <tr>\n",
       "      <th>9</th>\n",
       "      <td>(96.09, 100.0]</td>\n",
       "      <td>1</td>\n",
       "      <td>0.010638</td>\n",
       "    </tr>\n",
       "  </tbody>\n",
       "</table>\n",
       "</div>"
      ],
      "text/plain": [
       "  Undergrad Grade  Absolute Frequency  Relative Frequency\n",
       "0  (72.63, 76.54]                  24            0.255319\n",
       "1  (64.81, 68.72]                  17            0.180851\n",
       "2  (76.54, 80.45]                  15            0.159574\n",
       "3  (80.45, 84.36]                  13            0.138298\n",
       "4  (68.72, 72.63]                  11            0.117021\n",
       "5   (60.9, 64.81]                   7            0.074468\n",
       "6  (88.27, 92.18]                   3            0.031915\n",
       "7  (84.36, 88.27]                   2            0.021277\n",
       "8  (92.18, 96.09]                   1            0.010638\n",
       "9  (96.09, 100.0]                   1            0.010638"
      ]
     },
     "execution_count": 194,
     "metadata": {},
     "output_type": "execute_result"
    }
   ],
   "source": [
    "pd.merge(left=pd.cut(student_grades[\"Undergrad Grade\"], bins=bin_edges).value_counts().to_frame(name=\"Absolute Frequency\"), right=pd.cut(student_grades[\"Undergrad Grade\"], bins=bin_edges).value_counts(normalize=True).to_frame(name=\"Relative Frequency\"), left_index=True, right_index=True).reset_index().rename(columns={\"index\": \"Undergrad Grade\"})"
   ]
  },
  {
   "cell_type": "code",
   "execution_count": 195,
   "metadata": {},
   "outputs": [
    {
     "data": {
      "text/plain": [
       "<AxesSubplot: title={'center': 'Undergrad Grade Distribution'}, ylabel='Frequency'>"
      ]
     },
     "execution_count": 195,
     "metadata": {},
     "output_type": "execute_result"
    },
    {
     "data": {
      "image/png": "[encoded data removed]",
      "text/plain": [
       "<Figure size 640x480 with 1 Axes>"
      ]
     },
     "metadata": {},
     "output_type": "display_data"
    }
   ],
   "source": [
    "student_grades[\"Undergrad Grade\"].plot(kind=\"hist\", title=\"Undergrad Grade Distribution\")"
   ]
  },
  {
   "cell_type": "code",
   "execution_count": 196,
   "metadata": {},
   "outputs": [
    {
     "name": "stdout",
     "output_type": "stream",
     "text": [
      "[62.6  65.95 69.3  72.65 76.   79.35 82.7  86.05 89.4  92.75 96.1 ]\n"
     ]
    }
   ],
   "source": [
    "# extract the bin edges for MBA Grade\n",
    "bin_edges = np.histogram(student_grades[\"MBA Grade\"])[1]\n",
    "print(bin_edges)"
   ]
  },
  {
   "cell_type": "code",
   "execution_count": 197,
   "metadata": {},
   "outputs": [
    {
     "data": {
      "text/html": [
       "<div>\n",
       "<style scoped>\n",
       "    .dataframe tbody tr th:only-of-type {\n",
       "        vertical-align: middle;\n",
       "    }\n",
       "\n",
       "    .dataframe tbody tr th {\n",
       "        vertical-align: top;\n",
       "    }\n",
       "\n",
       "    .dataframe thead th {\n",
       "        text-align: right;\n",
       "    }\n",
       "</style>\n",
       "<table border=\"1\" class=\"dataframe\">\n",
       "  <thead>\n",
       "    <tr style=\"text-align: right;\">\n",
       "      <th></th>\n",
       "      <th>MBA Grade</th>\n",
       "      <th>Absolute Frequency</th>\n",
       "      <th>Relative Frequency</th>\n",
       "    </tr>\n",
       "  </thead>\n",
       "  <tbody>\n",
       "    <tr>\n",
       "      <th>0</th>\n",
       "      <td>(79.35, 82.7]</td>\n",
       "      <td>21</td>\n",
       "      <td>0.223404</td>\n",
       "    </tr>\n",
       "    <tr>\n",
       "      <th>1</th>\n",
       "      <td>(82.7, 86.05]</td>\n",
       "      <td>18</td>\n",
       "      <td>0.191489</td>\n",
       "    </tr>\n",
       "    <tr>\n",
       "      <th>2</th>\n",
       "      <td>(76.0, 79.35]</td>\n",
       "      <td>16</td>\n",
       "      <td>0.170213</td>\n",
       "    </tr>\n",
       "    <tr>\n",
       "      <th>3</th>\n",
       "      <td>(69.3, 72.65]</td>\n",
       "      <td>11</td>\n",
       "      <td>0.117021</td>\n",
       "    </tr>\n",
       "    <tr>\n",
       "      <th>4</th>\n",
       "      <td>(86.05, 89.4]</td>\n",
       "      <td>11</td>\n",
       "      <td>0.117021</td>\n",
       "    </tr>\n",
       "    <tr>\n",
       "      <th>5</th>\n",
       "      <td>(72.65, 76.0]</td>\n",
       "      <td>10</td>\n",
       "      <td>0.106383</td>\n",
       "    </tr>\n",
       "    <tr>\n",
       "      <th>6</th>\n",
       "      <td>(89.4, 92.75]</td>\n",
       "      <td>3</td>\n",
       "      <td>0.031915</td>\n",
       "    </tr>\n",
       "    <tr>\n",
       "      <th>7</th>\n",
       "      <td>(65.95, 69.3]</td>\n",
       "      <td>2</td>\n",
       "      <td>0.021277</td>\n",
       "    </tr>\n",
       "    <tr>\n",
       "      <th>8</th>\n",
       "      <td>(92.75, 96.1]</td>\n",
       "      <td>2</td>\n",
       "      <td>0.021277</td>\n",
       "    </tr>\n",
       "    <tr>\n",
       "      <th>9</th>\n",
       "      <td>(62.6, 65.95]</td>\n",
       "      <td>0</td>\n",
       "      <td>0.000000</td>\n",
       "    </tr>\n",
       "  </tbody>\n",
       "</table>\n",
       "</div>"
      ],
      "text/plain": [
       "       MBA Grade  Absolute Frequency  Relative Frequency\n",
       "0  (79.35, 82.7]                  21            0.223404\n",
       "1  (82.7, 86.05]                  18            0.191489\n",
       "2  (76.0, 79.35]                  16            0.170213\n",
       "3  (69.3, 72.65]                  11            0.117021\n",
       "4  (86.05, 89.4]                  11            0.117021\n",
       "5  (72.65, 76.0]                  10            0.106383\n",
       "6  (89.4, 92.75]                   3            0.031915\n",
       "7  (65.95, 69.3]                   2            0.021277\n",
       "8  (92.75, 96.1]                   2            0.021277\n",
       "9  (62.6, 65.95]                   0            0.000000"
      ]
     },
     "execution_count": 197,
     "metadata": {},
     "output_type": "execute_result"
    }
   ],
   "source": [
    "pd.merge(left=pd.cut(student_grades[\"MBA Grade\"], bins=bin_edges).value_counts().to_frame(\"Absolute Frequency\"), right=pd.cut(student_grades[\"MBA Grade\"], bins=bin_edges).value_counts(normalize=True).to_frame(\"Relative Frequency\"), left_index=True, right_index=True).reset_index().rename(columns={\"index\": \"MBA Grade\"})\n"
   ]
  },
  {
   "cell_type": "code",
   "execution_count": 198,
   "metadata": {},
   "outputs": [
    {
     "data": {
      "text/plain": [
       "<AxesSubplot: title={'center': 'MBA Grade Distribution'}, ylabel='Frequency'>"
      ]
     },
     "execution_count": 198,
     "metadata": {},
     "output_type": "execute_result"
    },
    {
     "data": {
      "image/png": "[encoded data removed]",
      "text/plain": [
       "<Figure size 640x480 with 1 Axes>"
      ]
     },
     "metadata": {},
     "output_type": "display_data"
    }
   ],
   "source": [
    "student_grades[\"MBA Grade\"].plot(kind=\"hist\", title=\"MBA Grade Distribution\")"
   ]
  },
  {
   "cell_type": "code",
   "execution_count": 199,
   "metadata": {},
   "outputs": [],
   "source": [
    "# extract the bin edges for Annual Salary\n",
    "bin_edges = np.histogram(student_grades[\"Annual Salary\"].dropna(), bins=15)[1]"
   ]
  },
  {
   "cell_type": "code",
   "execution_count": 200,
   "metadata": {},
   "outputs": [
    {
     "data": {
      "text/html": [
       "<div>\n",
       "<style scoped>\n",
       "    .dataframe tbody tr th:only-of-type {\n",
       "        vertical-align: middle;\n",
       "    }\n",
       "\n",
       "    .dataframe tbody tr th {\n",
       "        vertical-align: top;\n",
       "    }\n",
       "\n",
       "    .dataframe thead th {\n",
       "        text-align: right;\n",
       "    }\n",
       "</style>\n",
       "<table border=\"1\" class=\"dataframe\">\n",
       "  <thead>\n",
       "    <tr style=\"text-align: right;\">\n",
       "      <th></th>\n",
       "      <th>Annual Salary Range</th>\n",
       "      <th>Absolute Frequency</th>\n",
       "      <th>Relative Frequency</th>\n",
       "    </tr>\n",
       "  </thead>\n",
       "  <tbody>\n",
       "    <tr>\n",
       "      <th>0</th>\n",
       "      <td>(93133.333, 110766.667]</td>\n",
       "      <td>19</td>\n",
       "      <td>0.365385</td>\n",
       "    </tr>\n",
       "    <tr>\n",
       "      <th>1</th>\n",
       "      <td>(75500.0, 93133.333]</td>\n",
       "      <td>11</td>\n",
       "      <td>0.211538</td>\n",
       "    </tr>\n",
       "    <tr>\n",
       "      <th>2</th>\n",
       "      <td>(110766.667, 128400.0]</td>\n",
       "      <td>11</td>\n",
       "      <td>0.211538</td>\n",
       "    </tr>\n",
       "    <tr>\n",
       "      <th>3</th>\n",
       "      <td>(146033.333, 163666.667]</td>\n",
       "      <td>3</td>\n",
       "      <td>0.057692</td>\n",
       "    </tr>\n",
       "    <tr>\n",
       "      <th>4</th>\n",
       "      <td>(128400.0, 146033.333]</td>\n",
       "      <td>2</td>\n",
       "      <td>0.038462</td>\n",
       "    </tr>\n",
       "    <tr>\n",
       "      <th>5</th>\n",
       "      <td>(163666.667, 181300.0]</td>\n",
       "      <td>2</td>\n",
       "      <td>0.038462</td>\n",
       "    </tr>\n",
       "    <tr>\n",
       "      <th>6</th>\n",
       "      <td>(181300.0, 198933.333]</td>\n",
       "      <td>1</td>\n",
       "      <td>0.019231</td>\n",
       "    </tr>\n",
       "    <tr>\n",
       "      <th>7</th>\n",
       "      <td>(198933.333, 216566.667]</td>\n",
       "      <td>1</td>\n",
       "      <td>0.019231</td>\n",
       "    </tr>\n",
       "    <tr>\n",
       "      <th>8</th>\n",
       "      <td>(251833.333, 269466.667]</td>\n",
       "      <td>1</td>\n",
       "      <td>0.019231</td>\n",
       "    </tr>\n",
       "    <tr>\n",
       "      <th>9</th>\n",
       "      <td>(322366.667, 340000.0]</td>\n",
       "      <td>1</td>\n",
       "      <td>0.019231</td>\n",
       "    </tr>\n",
       "    <tr>\n",
       "      <th>10</th>\n",
       "      <td>(216566.667, 234200.0]</td>\n",
       "      <td>0</td>\n",
       "      <td>0.000000</td>\n",
       "    </tr>\n",
       "    <tr>\n",
       "      <th>11</th>\n",
       "      <td>(234200.0, 251833.333]</td>\n",
       "      <td>0</td>\n",
       "      <td>0.000000</td>\n",
       "    </tr>\n",
       "    <tr>\n",
       "      <th>12</th>\n",
       "      <td>(269466.667, 287100.0]</td>\n",
       "      <td>0</td>\n",
       "      <td>0.000000</td>\n",
       "    </tr>\n",
       "    <tr>\n",
       "      <th>13</th>\n",
       "      <td>(287100.0, 304733.333]</td>\n",
       "      <td>0</td>\n",
       "      <td>0.000000</td>\n",
       "    </tr>\n",
       "    <tr>\n",
       "      <th>14</th>\n",
       "      <td>(304733.333, 322366.667]</td>\n",
       "      <td>0</td>\n",
       "      <td>0.000000</td>\n",
       "    </tr>\n",
       "  </tbody>\n",
       "</table>\n",
       "</div>"
      ],
      "text/plain": [
       "         Annual Salary Range  Absolute Frequency  Relative Frequency\n",
       "0    (93133.333, 110766.667]                  19            0.365385\n",
       "1       (75500.0, 93133.333]                  11            0.211538\n",
       "2     (110766.667, 128400.0]                  11            0.211538\n",
       "3   (146033.333, 163666.667]                   3            0.057692\n",
       "4     (128400.0, 146033.333]                   2            0.038462\n",
       "5     (163666.667, 181300.0]                   2            0.038462\n",
       "6     (181300.0, 198933.333]                   1            0.019231\n",
       "7   (198933.333, 216566.667]                   1            0.019231\n",
       "8   (251833.333, 269466.667]                   1            0.019231\n",
       "9     (322366.667, 340000.0]                   1            0.019231\n",
       "10    (216566.667, 234200.0]                   0            0.000000\n",
       "11    (234200.0, 251833.333]                   0            0.000000\n",
       "12    (269466.667, 287100.0]                   0            0.000000\n",
       "13    (287100.0, 304733.333]                   0            0.000000\n",
       "14  (304733.333, 322366.667]                   0            0.000000"
      ]
     },
     "execution_count": 200,
     "metadata": {},
     "output_type": "execute_result"
    }
   ],
   "source": [
    "# get the absolute frequency table for the bin edges from above distribution\n",
    "pd.merge(left= pd.cut(student_grades[\"Annual Salary\"], bins=bin_edges).value_counts().to_frame(\"Absolute Frequency\"), right=pd.cut(student_grades[\"Annual Salary\"], bins=bin_edges).value_counts(normalize=True).to_frame(\"Relative Frequency\"), left_index=True, right_index=True).reset_index().rename(columns={\"index\": \"Annual Salary Range\"})"
   ]
  },
  {
   "cell_type": "code",
   "execution_count": 201,
   "metadata": {},
   "outputs": [
    {
     "data": {
      "text/plain": [
       "<AxesSubplot: title={'center': 'Annual Salary Distribution for MBA Graduates'}, ylabel='Frequency'>"
      ]
     },
     "execution_count": 201,
     "metadata": {},
     "output_type": "execute_result"
    },
    {
     "data": {
      "image/png": "[encoded data removed]",
      "text/plain": [
       "<Figure size 640x480 with 1 Axes>"
      ]
     },
     "metadata": {},
     "output_type": "display_data"
    }
   ],
   "source": [
    "student_grades[\"Annual Salary\"].plot(kind=\"hist\", bins=15, title=\"Annual Salary Distribution for MBA Graduates\")"
   ]
  },
  {
   "attachments": {},
   "cell_type": "markdown",
   "metadata": {},
   "source": [
    "#### What are mean, median and mode for numeric variables?"
   ]
  },
  {
   "cell_type": "code",
   "execution_count": 202,
   "metadata": {},
   "outputs": [
    {
     "name": "stdout",
     "output_type": "stream",
     "text": [
      "Annual Salary mean: 119386.7924528302\n",
      "Annual Salary median: 104500.0\n",
      "Annual Salary mode: 103500.0\n"
     ]
    }
   ],
   "source": [
    "print(f'Annual Salary mean: {student_grades[\"Annual Salary\"].mean()}')\n",
    "print(f'Annual Salary median: {student_grades[\"Annual Salary\"].median()}')\n",
    "print(f'Annual Salary mode: {student_grades[\"Annual Salary\"].mode()[0]}')"
   ]
  },
  {
   "cell_type": "code",
   "execution_count": 203,
   "metadata": {},
   "outputs": [
    {
     "name": "stdout",
     "output_type": "stream",
     "text": [
      "Measures of central tendency for graduates with work experience -->\n",
      "Annual Salary mean: 124647.05882352941\n",
      "Annual Salary median: 103500.0\n",
      "Annual Salary mode: [ 99000.  99500. 103500. 124500.]\n",
      "\n",
      "\n",
      "Measures of central tendency for graduates without work experience -->\n",
      "Annual Salary mean: 116902.77777777778\n",
      "Annual Salary median: 105750.0\n",
      "Annual Salary mode: 103500.0\n"
     ]
    }
   ],
   "source": [
    "# find measures of central tendency of annual salary for work experience (possible confounding variable)\n",
    "grade_exp = student_grades.groupby(\"Work Experience\").agg({\"Annual Salary\": [\"mean\", \"median\", pd.Series.mode]})\n",
    "\n",
    "print(\"Measures of central tendency for graduates with work experience -->\")\n",
    "print(f'Annual Salary mean: {grade_exp[\"Annual Salary\"][\"mean\"].loc[\"Yes\"]}')\n",
    "print(f'Annual Salary median: {grade_exp[\"Annual Salary\"][\"median\"].loc[\"Yes\"]}')\n",
    "print(f'Annual Salary mode: {grade_exp[\"Annual Salary\"][\"mode\"].loc[\"Yes\"]}')\n",
    "\n",
    "print(\"\\n\")\n",
    "print(\"Measures of central tendency for graduates without work experience -->\")\n",
    "print(f'Annual Salary mean: {grade_exp[\"Annual Salary\"][\"mean\"].loc[\"No\"]}')\n",
    "print(f'Annual Salary median: {grade_exp[\"Annual Salary\"][\"median\"].loc[\"No\"]}')\n",
    "print(f'Annual Salary mode: {grade_exp[\"Annual Salary\"][\"mode\"].loc[\"No\"]}')"
   ]
  },
  {
   "cell_type": "code",
   "execution_count": 204,
   "metadata": {},
   "outputs": [
    {
     "data": {
      "text/plain": [
       "Undergrad Grade    0.417548\n",
       "MBA Grade         -0.120621\n",
       "Annual Salary      2.932434\n",
       "dtype: float64"
      ]
     },
     "execution_count": 204,
     "metadata": {},
     "output_type": "execute_result"
    }
   ],
   "source": [
    "# find skew for numeric columns\n",
    "student_grades.loc[:, [\"Undergrad Grade\", \"MBA Grade\", \"Annual Salary\"]].skew(axis=0)"
   ]
  },
  {
   "cell_type": "code",
   "execution_count": 205,
   "metadata": {},
   "outputs": [
    {
     "name": "stdout",
     "output_type": "stream",
     "text": [
      "Undergrad Grade mean: 74.97368421052632\n",
      "Undergrad Grade median: 75.6\n",
      "Undergrad Grade mode: 68.7\n"
     ]
    }
   ],
   "source": [
    "print(f\"Undergrad Grade mean: {student_grades['Undergrad Grade'].mean()}\")\n",
    "print(f\"Undergrad Grade median: {student_grades['Undergrad Grade'].median()}\")\n",
    "print(f\"Undergrad Grade mode: {student_grades['Undergrad Grade'].mode()[0]}\")"
   ]
  },
  {
   "cell_type": "code",
   "execution_count": 206,
   "metadata": {},
   "outputs": [
    {
     "name": "stdout",
     "output_type": "stream",
     "text": [
      "MBA Grade mean: 80.16947368421053\n",
      "MBA Grade median: 80.2\n",
      "MBA Grade mode: 77.8\n"
     ]
    }
   ],
   "source": [
    "print(f\"MBA Grade mean: {student_grades['MBA Grade'].mean()}\")\n",
    "print(f\"MBA Grade median: {student_grades['MBA Grade'].median()}\")\n",
    "print(f\"MBA Grade mode: {student_grades['MBA Grade'].mode()[0]}\")"
   ]
  },
  {
   "attachments": {},
   "cell_type": "markdown",
   "metadata": {},
   "source": [
    "#### What are measures of central tendency for MBA grades accounting for degree (Business/Non-Business)?"
   ]
  },
  {
   "cell_type": "code",
   "execution_count": 207,
   "metadata": {},
   "outputs": [],
   "source": [
    "def map_degree(x):\n",
    "    if x != \"Business\":\n",
    "        return \"Non-Business\"\n",
    "    else:\n",
    "        return x\n",
    "    return np.nan"
   ]
  },
  {
   "cell_type": "code",
   "execution_count": 208,
   "metadata": {},
   "outputs": [],
   "source": [
    "student_grades[\"Undergrad_Degree_Derive\"] = student_grades[\"Undergrad Degree\"].transform(map_degree)"
   ]
  },
  {
   "cell_type": "code",
   "execution_count": 209,
   "metadata": {},
   "outputs": [
    {
     "data": {
      "text/html": [
       "<div>\n",
       "<style scoped>\n",
       "    .dataframe tbody tr th:only-of-type {\n",
       "        vertical-align: middle;\n",
       "    }\n",
       "\n",
       "    .dataframe tbody tr th {\n",
       "        vertical-align: top;\n",
       "    }\n",
       "\n",
       "    .dataframe thead tr th {\n",
       "        text-align: left;\n",
       "    }\n",
       "\n",
       "    .dataframe thead tr:last-of-type th {\n",
       "        text-align: right;\n",
       "    }\n",
       "</style>\n",
       "<table border=\"1\" class=\"dataframe\">\n",
       "  <thead>\n",
       "    <tr>\n",
       "      <th></th>\n",
       "      <th colspan=\"4\" halign=\"left\">MBA Grade</th>\n",
       "    </tr>\n",
       "    <tr>\n",
       "      <th></th>\n",
       "      <th>mean</th>\n",
       "      <th>median</th>\n",
       "      <th>mode</th>\n",
       "      <th>skew</th>\n",
       "    </tr>\n",
       "    <tr>\n",
       "      <th>Undergrad_Degree_Derive</th>\n",
       "      <th></th>\n",
       "      <th></th>\n",
       "      <th></th>\n",
       "      <th></th>\n",
       "    </tr>\n",
       "  </thead>\n",
       "  <tbody>\n",
       "    <tr>\n",
       "      <th>Business</th>\n",
       "      <td>81.327778</td>\n",
       "      <td>80.55</td>\n",
       "      <td>87.5</td>\n",
       "      <td>0.288165</td>\n",
       "    </tr>\n",
       "    <tr>\n",
       "      <th>Non-Business</th>\n",
       "      <td>79.462712</td>\n",
       "      <td>80.00</td>\n",
       "      <td>80.7</td>\n",
       "      <td>-0.606018</td>\n",
       "    </tr>\n",
       "  </tbody>\n",
       "</table>\n",
       "</div>"
      ],
      "text/plain": [
       "                         MBA Grade                       \n",
       "                              mean median  mode      skew\n",
       "Undergrad_Degree_Derive                                  \n",
       "Business                 81.327778  80.55  87.5  0.288165\n",
       "Non-Business             79.462712  80.00  80.7 -0.606018"
      ]
     },
     "execution_count": 209,
     "metadata": {},
     "output_type": "execute_result"
    }
   ],
   "source": [
    "student_grades.loc[:, [\"Undergrad_Degree_Derive\", \"MBA Grade\"]].groupby(\"Undergrad_Degree_Derive\").agg([\"mean\", \"median\", pd.Series.mode, \"skew\"])"
   ]
  },
  {
   "cell_type": "code",
   "execution_count": 210,
   "metadata": {},
   "outputs": [
    {
     "data": {
      "text/plain": [
       "<AxesSubplot: title={'center': 'MBA Grade Distribution for Business Degree'}, ylabel='Frequency'>"
      ]
     },
     "execution_count": 210,
     "metadata": {},
     "output_type": "execute_result"
    },
    {
     "data": {
      "image/png": "[encoded data removed]",
      "text/plain": [
       "<Figure size 640x480 with 1 Axes>"
      ]
     },
     "metadata": {},
     "output_type": "display_data"
    }
   ],
   "source": [
    "# plot histogram for MBA Grade for Business Degree\n",
    "student_grades.loc[student_grades[\"Undergrad_Degree_Derive\"] == \"Business\", \"MBA Grade\"].plot(kind=\"hist\", title=\"MBA Grade Distribution for Business Degree\")"
   ]
  },
  {
   "cell_type": "code",
   "execution_count": 211,
   "metadata": {},
   "outputs": [
    {
     "data": {
      "text/plain": [
       "<AxesSubplot: title={'center': 'MBA Grade Distribution for Non-Business Degree'}, ylabel='Frequency'>"
      ]
     },
     "execution_count": 211,
     "metadata": {},
     "output_type": "execute_result"
    },
    {
     "data": {
      "image/png": "[encoded data removed]",
      "text/plain": [
       "<Figure size 640x480 with 1 Axes>"
      ]
     },
     "metadata": {},
     "output_type": "display_data"
    }
   ],
   "source": [
    "# plot histogram for MBA Grade for Non-Business Degree\n",
    "student_grades.loc[student_grades[\"Undergrad_Degree_Derive\"] == \"Non-Business\", \"MBA Grade\"].plot(kind=\"hist\", title=\"MBA Grade Distribution for Non-Business Degree\")"
   ]
  },
  {
   "attachments": {},
   "cell_type": "markdown",
   "metadata": {},
   "source": [
    "#### How does the total spread of the graduates' employability scores compare before and after the MBA programs?"
   ]
  },
  {
   "cell_type": "code",
   "execution_count": 212,
   "metadata": {},
   "outputs": [
    {
     "data": {
      "text/html": [
       "<div>\n",
       "<style scoped>\n",
       "    .dataframe tbody tr th:only-of-type {\n",
       "        vertical-align: middle;\n",
       "    }\n",
       "\n",
       "    .dataframe tbody tr th {\n",
       "        vertical-align: top;\n",
       "    }\n",
       "\n",
       "    .dataframe thead th {\n",
       "        text-align: right;\n",
       "    }\n",
       "</style>\n",
       "<table border=\"1\" class=\"dataframe\">\n",
       "  <thead>\n",
       "    <tr style=\"text-align: right;\">\n",
       "      <th></th>\n",
       "      <th>Employability (Before)</th>\n",
       "      <th>Employability (After)</th>\n",
       "    </tr>\n",
       "  </thead>\n",
       "  <tbody>\n",
       "    <tr>\n",
       "      <th>min</th>\n",
       "      <td>62</td>\n",
       "      <td>102</td>\n",
       "    </tr>\n",
       "    <tr>\n",
       "      <th>max</th>\n",
       "      <td>423</td>\n",
       "      <td>481</td>\n",
       "    </tr>\n",
       "    <tr>\n",
       "      <th>range</th>\n",
       "      <td>361</td>\n",
       "      <td>379</td>\n",
       "    </tr>\n",
       "  </tbody>\n",
       "</table>\n",
       "</div>"
      ],
      "text/plain": [
       "       Employability (Before)  Employability (After)\n",
       "min                        62                    102\n",
       "max                       423                    481\n",
       "range                     361                    379"
      ]
     },
     "execution_count": 212,
     "metadata": {},
     "output_type": "execute_result"
    }
   ],
   "source": [
    "min_max = student_grades.loc[:, [\"Employability (Before)\", \"Employability (After)\"]].agg([\"min\", \"max\"])\n",
    "range_before = min_max[\"Employability (Before)\"][\"max\"] - min_max[\"Employability (Before)\"][\"min\"]\n",
    "range_after = min_max[\"Employability (After)\"][\"max\"] - min_max[\"Employability (After)\"][\"min\"]\n",
    "\n",
    "# get min, max and range for Employability (Before) and Employability (After)\n",
    "pd.concat([min_max, pd.DataFrame({\"Employability (Before)\": range_before, \"Employability (After)\": range_after}, index=[\"range\"])])"
   ]
  },
  {
   "cell_type": "code",
   "execution_count": 213,
   "metadata": {},
   "outputs": [
    {
     "data": {
      "text/html": [
       "<div>\n",
       "<style scoped>\n",
       "    .dataframe tbody tr th:only-of-type {\n",
       "        vertical-align: middle;\n",
       "    }\n",
       "\n",
       "    .dataframe tbody tr th {\n",
       "        vertical-align: top;\n",
       "    }\n",
       "\n",
       "    .dataframe thead th {\n",
       "        text-align: right;\n",
       "    }\n",
       "</style>\n",
       "<table border=\"1\" class=\"dataframe\">\n",
       "  <thead>\n",
       "    <tr style=\"text-align: right;\">\n",
       "      <th></th>\n",
       "      <th>Employability (Before)</th>\n",
       "      <th>Employability (After)</th>\n",
       "    </tr>\n",
       "  </thead>\n",
       "  <tbody>\n",
       "    <tr>\n",
       "      <th>mean</th>\n",
       "      <td>239.905263</td>\n",
       "      <td>289.347368</td>\n",
       "    </tr>\n",
       "    <tr>\n",
       "      <th>min</th>\n",
       "      <td>62.000000</td>\n",
       "      <td>102.000000</td>\n",
       "    </tr>\n",
       "    <tr>\n",
       "      <th>25%</th>\n",
       "      <td>181.500000</td>\n",
       "      <td>228.000000</td>\n",
       "    </tr>\n",
       "    <tr>\n",
       "      <th>50%</th>\n",
       "      <td>236.000000</td>\n",
       "      <td>286.000000</td>\n",
       "    </tr>\n",
       "    <tr>\n",
       "      <th>75%</th>\n",
       "      <td>287.000000</td>\n",
       "      <td>348.000000</td>\n",
       "    </tr>\n",
       "    <tr>\n",
       "      <th>max</th>\n",
       "      <td>423.000000</td>\n",
       "      <td>481.000000</td>\n",
       "    </tr>\n",
       "    <tr>\n",
       "      <th>IQR</th>\n",
       "      <td>105.500000</td>\n",
       "      <td>120.000000</td>\n",
       "    </tr>\n",
       "  </tbody>\n",
       "</table>\n",
       "</div>"
      ],
      "text/plain": [
       "      Employability (Before)  Employability (After)\n",
       "mean              239.905263             289.347368\n",
       "min                62.000000             102.000000\n",
       "25%               181.500000             228.000000\n",
       "50%               236.000000             286.000000\n",
       "75%               287.000000             348.000000\n",
       "max               423.000000             481.000000\n",
       "IQR               105.500000             120.000000"
      ]
     },
     "execution_count": 213,
     "metadata": {},
     "output_type": "execute_result"
    }
   ],
   "source": [
    "from scipy.stats import iqr\n",
    "\n",
    "# compute IQR for Employability (Before) and Employability (After)\n",
    "iqr_ser = student_grades.loc[:, [\"Employability (Before)\", \"Employability (After)\"]].agg(iqr)\n",
    "\n",
    "# get descriptive statistics for Employability (Before) and Employability (After) including IQR\n",
    "pd.concat([student_grades.loc[:, [\"Employability (Before)\", \"Employability (After)\"]].describe().drop(index=[\"count\", \"std\"]), pd.DataFrame({\"Employability (Before)\": iqr_ser[\"Employability (Before)\"], \"Employability (After)\": iqr_ser[\"Employability (After)\"]}, index=[\"IQR\"])], axis=0)"
   ]
  },
  {
   "cell_type": "code",
   "execution_count": 214,
   "metadata": {},
   "outputs": [
    {
     "data": {
      "image/png": "[encoded data removed]",
      "text/plain": [
       "<Figure size 500x700 with 1 Axes>"
      ]
     },
     "metadata": {},
     "output_type": "display_data"
    }
   ],
   "source": [
    "# plot distribution of Employability (Before) and Employability (After) using boxplot\n",
    "\n",
    "import matplotlib.pyplot as plt\n",
    "import seaborn as sns\n",
    "\n",
    "fig, ax = plt.subplots(figsize=(5, 7))\n",
    "sns.boxplot(data=student_grades.loc[:, [\"Employability (Before)\", \"Employability (After)\"]])\n",
    "\n",
    "plt.title(\"Employability Distribution\")\n",
    "ax.set_ylabel(\"Employability Scores\")\n",
    "\n",
    "plt.show()"
   ]
  },
  {
   "attachments": {},
   "cell_type": "markdown",
   "metadata": {},
   "source": [
    "#### On average, how much do the improvements in employability scores after the program vary from student to student?"
   ]
  },
  {
   "cell_type": "code",
   "execution_count": 215,
   "metadata": {},
   "outputs": [
    {
     "name": "stdout",
     "output_type": "stream",
     "text": [
      "Mean of employability improvement: 49.44210526315789\n",
      "Variance of employability improvement: 879.4194848824187\n",
      "Standard Deviation of employability improvement: 29.655007753875545\n"
     ]
    }
   ],
   "source": [
    "print(rf\"Mean of employability improvement: {np.mean(student_grades['Employability (After)'] - student_grades['Employability (Before)'])}\" )\n",
    "print(rf\"Variance of employability improvement: {np.var(student_grades['Employability (After)'] - student_grades['Employability (Before)'], ddof=1)}\" )\n",
    "print(rf\"Standard Deviation of employability improvement: {np.std(student_grades['Employability (After)'] - student_grades['Employability (Before)'], ddof=1)}\" )"
   ]
  },
  {
   "attachments": {},
   "cell_type": "markdown",
   "metadata": {},
   "source": [
    "#### What varies more for graduates - final grade averages or employability scores?"
   ]
  },
  {
   "cell_type": "code",
   "execution_count": 216,
   "metadata": {},
   "outputs": [
    {
     "data": {
      "text/html": [
       "<div>\n",
       "<style scoped>\n",
       "    .dataframe tbody tr th:only-of-type {\n",
       "        vertical-align: middle;\n",
       "    }\n",
       "\n",
       "    .dataframe tbody tr th {\n",
       "        vertical-align: top;\n",
       "    }\n",
       "\n",
       "    .dataframe thead th {\n",
       "        text-align: right;\n",
       "    }\n",
       "</style>\n",
       "<table border=\"1\" class=\"dataframe\">\n",
       "  <thead>\n",
       "    <tr style=\"text-align: right;\">\n",
       "      <th></th>\n",
       "      <th>MBA Grade</th>\n",
       "      <th>Employability</th>\n",
       "    </tr>\n",
       "  </thead>\n",
       "  <tbody>\n",
       "    <tr>\n",
       "      <th>Mean</th>\n",
       "      <td>80.169474</td>\n",
       "      <td>289.347368</td>\n",
       "    </tr>\n",
       "    <tr>\n",
       "      <th>Standard Deviation</th>\n",
       "      <td>6.170780</td>\n",
       "      <td>93.521049</td>\n",
       "    </tr>\n",
       "    <tr>\n",
       "      <th>Variance</th>\n",
       "      <td>38.078526</td>\n",
       "      <td>8746.186562</td>\n",
       "    </tr>\n",
       "    <tr>\n",
       "      <th>Coefficient of Variation</th>\n",
       "      <td>0.076972</td>\n",
       "      <td>0.323214</td>\n",
       "    </tr>\n",
       "  </tbody>\n",
       "</table>\n",
       "</div>"
      ],
      "text/plain": [
       "                          MBA Grade  Employability\n",
       "Mean                      80.169474     289.347368\n",
       "Standard Deviation         6.170780      93.521049\n",
       "Variance                  38.078526    8746.186562\n",
       "Coefficient of Variation   0.076972       0.323214"
      ]
     },
     "execution_count": 216,
     "metadata": {},
     "output_type": "execute_result"
    }
   ],
   "source": [
    "pd.DataFrame(\n",
    "    columns=[\"MBA Grade\", \"Employability\"],\n",
    "    data=[\n",
    "        [student_grades[\"MBA Grade\"].mean(), student_grades[\"Employability (After)\"].mean()],\n",
    "        [np.std(student_grades[\"MBA Grade\"], ddof=1), np.std(student_grades[\"Employability (After)\"], ddof=1)],\n",
    "        [np.var(student_grades[\"MBA Grade\"], ddof=1), np.var(student_grades[\"Employability (After)\"], ddof=1)],\n",
    "        [np.std(student_grades[\"MBA Grade\"], ddof=1)/student_grades[\"MBA Grade\"].mean(), np.std(student_grades[\"Employability (After)\"], ddof=1)/student_grades[\"Employability (After)\"].mean()],\n",
    "    ],\n",
    "    index=[\"Mean\", \"Standard Deviation\", \"Variance\", \"Coefficient of Variation\"]\n",
    ")"
   ]
  },
  {
   "attachments": {},
   "cell_type": "markdown",
   "metadata": {},
   "source": [
    "#### Calculate the variability of Undergrad Grades for Business and Non-Business students"
   ]
  },
  {
   "cell_type": "code",
   "execution_count": 217,
   "metadata": {},
   "outputs": [],
   "source": [
    "iqr_bus = iqr(student_grades[student_grades[\"Undergrad Degree\"] == \"Business\"].loc[:, \"MBA Grade\"])\n",
    "iqr_nonbus = iqr(student_grades[student_grades[\"Undergrad Degree\"] != \"Business\"].loc[:, \"MBA Grade\"])"
   ]
  },
  {
   "cell_type": "code",
   "execution_count": 218,
   "metadata": {},
   "outputs": [
    {
     "data": {
      "text/html": [
       "<div>\n",
       "<style scoped>\n",
       "    .dataframe tbody tr th:only-of-type {\n",
       "        vertical-align: middle;\n",
       "    }\n",
       "\n",
       "    .dataframe tbody tr th {\n",
       "        vertical-align: top;\n",
       "    }\n",
       "\n",
       "    .dataframe thead th {\n",
       "        text-align: right;\n",
       "    }\n",
       "</style>\n",
       "<table border=\"1\" class=\"dataframe\">\n",
       "  <thead>\n",
       "    <tr style=\"text-align: right;\">\n",
       "      <th></th>\n",
       "      <th>Business Undergrad</th>\n",
       "      <th>Non-Business Undergrad</th>\n",
       "    </tr>\n",
       "  </thead>\n",
       "  <tbody>\n",
       "    <tr>\n",
       "      <th>count</th>\n",
       "      <td>36.000000</td>\n",
       "      <td>59.000000</td>\n",
       "    </tr>\n",
       "    <tr>\n",
       "      <th>mean</th>\n",
       "      <td>81.327778</td>\n",
       "      <td>79.462712</td>\n",
       "    </tr>\n",
       "    <tr>\n",
       "      <th>std</th>\n",
       "      <td>6.643433</td>\n",
       "      <td>5.808552</td>\n",
       "    </tr>\n",
       "    <tr>\n",
       "      <th>min</th>\n",
       "      <td>71.000000</td>\n",
       "      <td>62.600000</td>\n",
       "    </tr>\n",
       "    <tr>\n",
       "      <th>25%</th>\n",
       "      <td>76.825000</td>\n",
       "      <td>76.050000</td>\n",
       "    </tr>\n",
       "    <tr>\n",
       "      <th>50%</th>\n",
       "      <td>80.550000</td>\n",
       "      <td>80.000000</td>\n",
       "    </tr>\n",
       "    <tr>\n",
       "      <th>75%</th>\n",
       "      <td>87.250000</td>\n",
       "      <td>84.450000</td>\n",
       "    </tr>\n",
       "    <tr>\n",
       "      <th>max</th>\n",
       "      <td>96.100000</td>\n",
       "      <td>89.900000</td>\n",
       "    </tr>\n",
       "    <tr>\n",
       "      <th>IQR</th>\n",
       "      <td>10.425000</td>\n",
       "      <td>8.400000</td>\n",
       "    </tr>\n",
       "  </tbody>\n",
       "</table>\n",
       "</div>"
      ],
      "text/plain": [
       "       Business Undergrad  Non-Business Undergrad\n",
       "count           36.000000               59.000000\n",
       "mean            81.327778               79.462712\n",
       "std              6.643433                5.808552\n",
       "min             71.000000               62.600000\n",
       "25%             76.825000               76.050000\n",
       "50%             80.550000               80.000000\n",
       "75%             87.250000               84.450000\n",
       "max             96.100000               89.900000\n",
       "IQR             10.425000                8.400000"
      ]
     },
     "execution_count": 218,
     "metadata": {},
     "output_type": "execute_result"
    }
   ],
   "source": [
    "pd.concat(\n",
    "   [ pd.concat([student_grades[student_grades[\"Undergrad Degree\"] == \"Business\"].loc[:, \"MBA Grade\"].describe().to_frame(name=\"Business Undergrad\"), pd.DataFrame(student_grades[student_grades[\"Undergrad Degree\"] != \"Business\"].loc[:, \"MBA Grade\"].describe().to_frame(name=\"Non-Business Undergrad\"))], axis=1),\n",
    " pd.DataFrame(\n",
    "    index=[\"IQR\"],\n",
    "    columns=[\"Business Undergrad\", \"Non-Business Undergrad\"],\n",
    "    data=[[iqr_bus, iqr_nonbus]]\n",
    ")],\n",
    "axis=0\n",
    ")"
   ]
  },
  {
   "cell_type": "code",
   "execution_count": 219,
   "metadata": {},
   "outputs": [
    {
     "data": {
      "image/png": "[encoded data removed]",
      "text/plain": [
       "<Figure size 400x700 with 1 Axes>"
      ]
     },
     "metadata": {},
     "output_type": "display_data"
    }
   ],
   "source": [
    "fig, ax = plt.subplots(figsize=(4, 7))\n",
    "sns.boxplot(data=[student_grades[student_grades[\"Undergrad Degree\"] == \"Business\"].loc[:, \"MBA Grade\"], student_grades[student_grades[\"Undergrad Degree\"] != \"Business\"].loc[:, \"MBA Grade\"]], ax=ax)\n",
    "\n",
    "plt.title(\"MBA Grade Distribution By Undergrad Degree\")\n",
    "ax.set_ylabel(\"MBA Grade\")\n",
    "ax.set_xticklabels([\"Business\", \"Non-Business\"])\n",
    "\n",
    "plt.show()"
   ]
  },
  {
   "cell_type": "code",
   "execution_count": null,
   "metadata": {},
   "outputs": [],
   "source": []
  }
 ],
 "metadata": {
  "kernelspec": {
   "display_name": "Python 3",
   "language": "python",
   "name": "python3"
  },
  "language_info": {
   "codemirror_mode": {
    "name": "ipython",
    "version": 3
   },
   "file_extension": ".py",
   "mimetype": "text/x-python",
   "name": "python",
   "nbconvert_exporter": "python",
   "pygments_lexer": "ipython3",
   "version": "3.10.9"
  },
  "orig_nbformat": 4,
  "vscode": {
   "interpreter": {
    "hash": "0c62ecade22fff4c1d31446e36615b3ce67a81b5933d46e8d3b7993b34a0b8fe"
   }
  }
 },
 "nbformat": 4,
 "nbformat_minor": 2
}
